{
  "nbformat": 4,
  "nbformat_minor": 0,
  "metadata": {
    "colab": {
      "provenance": [],
      "authorship_tag": "ABX9TyOtW4/AljYd8BJOrhKl3UJX",
      "include_colab_link": true
    },
    "kernelspec": {
      "name": "python3",
      "display_name": "Python 3"
    },
    "language_info": {
      "name": "python"
    }
  },
  "cells": [
    {
      "cell_type": "markdown",
      "metadata": {
        "id": "view-in-github",
        "colab_type": "text"
      },
      "source": [
        "<a href=\"https://colab.research.google.com/github/SilviaMCSC/Curso-An-lise-de-Dados---Python/blob/main/Strings.ipynb\" target=\"_parent\"><img src=\"https://colab.research.google.com/assets/colab-badge.svg\" alt=\"Open In Colab\"/></a>"
      ]
    },
    {
      "cell_type": "markdown",
      "source": [
        "\n",
        "##Strings"
      ],
      "metadata": {
        "id": "w6z-RgNPWGf1"
      }
    },
    {
      "cell_type": "markdown",
      "source": [
        "Formatação de Strings (f-strings)"
      ],
      "metadata": {
        "id": "chTesu2sWJpu"
      }
    },
    {
      "cell_type": "code",
      "execution_count": null,
      "metadata": {
        "id": "nP6meOsgVZ4A"
      },
      "outputs": [],
      "source": [
        "'''\n",
        "As f-strings em Python são uma maneira concisa e elegante de formatar strings.\n",
        "Elas permitem incorporar expressões Python diretamente dentro de strings,\n",
        "tornando o código mais legível e fácil de manter.\n",
        "\n",
        "Como usar f-strings:\n",
        "\n",
        "Para usar f-strings, basta prefixar uma string literal com a letra \"f\".\n",
        "Dentro da string, você pode usar expressões Python entre chaves \"{}\":\n",
        "'''\n",
        "\n",
        "\n",
        "cliente = 'Silvia'\n",
        "idade = 43\n",
        "print(f'O nome do cliente é {cliente}, e ele tem {idade} anos de idade.')"
      ]
    },
    {
      "cell_type": "code",
      "source": [
        "taxa = 2/3 # variável recebendo um valor de divisão\n",
        "print(taxa) # impressão da taxa\n",
        "print(f'O resultado da taxa é aproximadamente {taxa:.2f}')\n",
        "# imprimi com a formatação f-string\n",
        "# variável taxa está sendo formatada com um float com 2 casas decimais."
      ],
      "metadata": {
        "colab": {
          "base_uri": "https://localhost:8080/"
        },
        "id": "S-sp9qY-WZ1L",
        "outputId": "d7bff33e-23fe-41ac-c93e-05c8e2075b54"
      },
      "execution_count": null,
      "outputs": [
        {
          "output_type": "stream",
          "name": "stdout",
          "text": [
            "0.6666666666666666\n",
            "O resultado da taxa é aproximadamente 0.67\n"
          ]
        }
      ]
    },
    {
      "cell_type": "markdown",
      "source": [
        " Entrada definida pelo usuário (função input)"
      ],
      "metadata": {
        "id": "N3YWcwWDWg2f"
      }
    },
    {
      "cell_type": "markdown",
      "source": [
        "'''\n",
        "A função input() em Python permite que você obtenha entrada do usuário durante a\n",
        "execução do programa. É uma ferramenta essencial para interagir com o usuário e\n",
        "coletar dados para processamento.\n",
        "\n",
        "Como usar a função input():\n",
        "\n",
        "A função input() é simples de usar. Basta fornecer uma mensagem entre parênteses\n",
        "para instruir o usuário sobre o que digitar:\n",
        "'''\n"
      ],
      "metadata": {
        "id": "j9OMQTTic4C9"
      }
    },
    {
      "cell_type": "code",
      "source": [
        "nome = input('Informe seu primeiro nome: ') # input para o usuário digitar\n",
        "print(f'Olá, {nome}!') # imprime o texto que está dentro dos pareênteses\n",
        "# o f é da sintaxe do Python f-string\n",
        "# as chaves  que trazem  o nome da variável que será substituida"
      ],
      "metadata": {
        "id": "8NNSBPnUWkL5"
      },
      "execution_count": null,
      "outputs": []
    },
    {
      "cell_type": "code",
      "source": [
        "nome = input('Informe o seu primeiro nome: ')\n",
        "massa = float(input('Informe seu peso em kg: '))\n",
        "altura = float(input('Informe sua altura em metros na forma decimal: '))\n",
        "imc = massa / (altura ** 2)\n",
        "print(f'Olá {nome}! Seu IMC é {imc:.2f}')"
      ],
      "metadata": {
        "colab": {
          "base_uri": "https://localhost:8080/",
          "height": 356
        },
        "id": "eqIIXFRpWqOW",
        "outputId": "3d990a24-9c02-4ce9-de09-e4432c761c0e"
      },
      "execution_count": null,
      "outputs": [
        {
          "output_type": "error",
          "ename": "KeyboardInterrupt",
          "evalue": "Interrupted by user",
          "traceback": [
            "\u001b[0;31m---------------------------------------------------------------------------\u001b[0m",
            "\u001b[0;31mKeyboardInterrupt\u001b[0m                         Traceback (most recent call last)",
            "\u001b[0;32m<ipython-input-4-299cd764c758>\u001b[0m in \u001b[0;36m<cell line: 1>\u001b[0;34m()\u001b[0m\n\u001b[0;32m----> 1\u001b[0;31m \u001b[0mnome\u001b[0m \u001b[0;34m=\u001b[0m \u001b[0minput\u001b[0m\u001b[0;34m(\u001b[0m\u001b[0;34m'Informe o seu primeiro nome: '\u001b[0m\u001b[0;34m)\u001b[0m\u001b[0;34m\u001b[0m\u001b[0;34m\u001b[0m\u001b[0m\n\u001b[0m\u001b[1;32m      2\u001b[0m \u001b[0mmassa\u001b[0m \u001b[0;34m=\u001b[0m \u001b[0mfloat\u001b[0m\u001b[0;34m(\u001b[0m\u001b[0minput\u001b[0m\u001b[0;34m(\u001b[0m\u001b[0;34m'Informe seu peso em kg: '\u001b[0m\u001b[0;34m)\u001b[0m\u001b[0;34m)\u001b[0m\u001b[0;34m\u001b[0m\u001b[0;34m\u001b[0m\u001b[0m\n\u001b[1;32m      3\u001b[0m \u001b[0maltura\u001b[0m \u001b[0;34m=\u001b[0m \u001b[0mfloat\u001b[0m\u001b[0;34m(\u001b[0m\u001b[0minput\u001b[0m\u001b[0;34m(\u001b[0m\u001b[0;34m'Informe sua altura em metros na forma decimal: '\u001b[0m\u001b[0;34m)\u001b[0m\u001b[0;34m)\u001b[0m\u001b[0;34m\u001b[0m\u001b[0;34m\u001b[0m\u001b[0m\n\u001b[1;32m      4\u001b[0m \u001b[0mimc\u001b[0m \u001b[0;34m=\u001b[0m \u001b[0mmassa\u001b[0m \u001b[0;34m/\u001b[0m \u001b[0;34m(\u001b[0m\u001b[0maltura\u001b[0m \u001b[0;34m**\u001b[0m \u001b[0;36m2\u001b[0m\u001b[0;34m)\u001b[0m\u001b[0;34m\u001b[0m\u001b[0;34m\u001b[0m\u001b[0m\n\u001b[1;32m      5\u001b[0m \u001b[0mprint\u001b[0m\u001b[0;34m(\u001b[0m\u001b[0;34mf'Olá {nome}! Seu IMC é {imc:.2f}'\u001b[0m\u001b[0;34m)\u001b[0m\u001b[0;34m\u001b[0m\u001b[0;34m\u001b[0m\u001b[0m\n",
            "\u001b[0;32m/usr/local/lib/python3.10/dist-packages/ipykernel/kernelbase.py\u001b[0m in \u001b[0;36mraw_input\u001b[0;34m(self, prompt)\u001b[0m\n\u001b[1;32m    849\u001b[0m                 \u001b[0;34m\"raw_input was called, but this frontend does not support input requests.\"\u001b[0m\u001b[0;34m\u001b[0m\u001b[0;34m\u001b[0m\u001b[0m\n\u001b[1;32m    850\u001b[0m             )\n\u001b[0;32m--> 851\u001b[0;31m         return self._input_request(str(prompt),\n\u001b[0m\u001b[1;32m    852\u001b[0m             \u001b[0mself\u001b[0m\u001b[0;34m.\u001b[0m\u001b[0m_parent_ident\u001b[0m\u001b[0;34m,\u001b[0m\u001b[0;34m\u001b[0m\u001b[0;34m\u001b[0m\u001b[0m\n\u001b[1;32m    853\u001b[0m             \u001b[0mself\u001b[0m\u001b[0;34m.\u001b[0m\u001b[0m_parent_header\u001b[0m\u001b[0;34m,\u001b[0m\u001b[0;34m\u001b[0m\u001b[0;34m\u001b[0m\u001b[0m\n",
            "\u001b[0;32m/usr/local/lib/python3.10/dist-packages/ipykernel/kernelbase.py\u001b[0m in \u001b[0;36m_input_request\u001b[0;34m(self, prompt, ident, parent, password)\u001b[0m\n\u001b[1;32m    893\u001b[0m             \u001b[0;32mexcept\u001b[0m \u001b[0mKeyboardInterrupt\u001b[0m\u001b[0;34m:\u001b[0m\u001b[0;34m\u001b[0m\u001b[0;34m\u001b[0m\u001b[0m\n\u001b[1;32m    894\u001b[0m                 \u001b[0;31m# re-raise KeyboardInterrupt, to truncate traceback\u001b[0m\u001b[0;34m\u001b[0m\u001b[0;34m\u001b[0m\u001b[0m\n\u001b[0;32m--> 895\u001b[0;31m                 \u001b[0;32mraise\u001b[0m \u001b[0mKeyboardInterrupt\u001b[0m\u001b[0;34m(\u001b[0m\u001b[0;34m\"Interrupted by user\"\u001b[0m\u001b[0;34m)\u001b[0m \u001b[0;32mfrom\u001b[0m \u001b[0;32mNone\u001b[0m\u001b[0;34m\u001b[0m\u001b[0;34m\u001b[0m\u001b[0m\n\u001b[0m\u001b[1;32m    896\u001b[0m             \u001b[0;32mexcept\u001b[0m \u001b[0mException\u001b[0m \u001b[0;32mas\u001b[0m \u001b[0me\u001b[0m\u001b[0;34m:\u001b[0m\u001b[0;34m\u001b[0m\u001b[0;34m\u001b[0m\u001b[0m\n\u001b[1;32m    897\u001b[0m                 \u001b[0mself\u001b[0m\u001b[0;34m.\u001b[0m\u001b[0mlog\u001b[0m\u001b[0;34m.\u001b[0m\u001b[0mwarning\u001b[0m\u001b[0;34m(\u001b[0m\u001b[0;34m\"Invalid Message:\"\u001b[0m\u001b[0;34m,\u001b[0m \u001b[0mexc_info\u001b[0m\u001b[0;34m=\u001b[0m\u001b[0;32mTrue\u001b[0m\u001b[0;34m)\u001b[0m\u001b[0;34m\u001b[0m\u001b[0;34m\u001b[0m\u001b[0m\n",
            "\u001b[0;31mKeyboardInterrupt\u001b[0m: Interrupted by user"
          ]
        }
      ]
    },
    {
      "cell_type": "markdown",
      "source": [
        "Posições de caracteres nas strings"
      ],
      "metadata": {
        "id": "_XnkZg3mWuZJ"
      }
    },
    {
      "cell_type": "code",
      "source": [
        "'''\n",
        "Este bloco traz possível soluções para quando queremos saber qual caracter temos\n",
        "em uma posição (índice) ou sequência de caracteres em um intervalo\n",
        "'''\n",
        "# 0    1   2   3   4   5  6  7  8  9 10 11 12 13 (índice)\n",
        "# -14 -13 -12 -11 -10 -9 -8 -7 -6 -5 -4 -3 -2 -1 (índice reverso)\n",
        "# 1º 2º 3º 4º 5º 6º 7º 8º 9º 10º 11º 12º 13º 14º (ordinal)\n",
        "# d  o  u  g  @  g  m  a  i   l   .   c   o   m\n",
        "email = 'doug@gmail.com'\n",
        "print(email[4])\n",
        "print(email[:]) # imprimir um intervalo de todos os caracteres da string email\n",
        "print(email[0:4]) # selecionando o intervalo a partir do índice 0 até o índice 3\n",
        "print(email[2:]) # seleciona o intervalo a partir do índice 2 até o final\n",
        "print(email[:5]) # seleciona o intervalo de todos os caracteres até o de índice 4\n",
        "print(email[0:5:2]) # seleciona último caracter de uma sequência\n",
        "'''\n",
        "resumo do fatiamento de strings\n",
        "nome_variavel[indice de começo : índice de parada : de quanto em quanto]\n",
        "nome_variavel[início : fim : passo]\n",
        "\n",
        "[  :  ] Os dois pontos significam intervalo\n",
        "O da esquerda é includente (pega exatamente o número que inicia)\n",
        "o da direita é exludente (pega um a mais para inserir o que se pede)\n",
        "[ ::  ] para contar de 2 em 2 ou de 3  em 3 .... e assim sucessivamente\n",
        "\n",
        "Índice reverso ( -1) conta o último caracter da string\n",
        "Éndice reverso ( -2) conta o penúltimo caracter e assim sucessivamente.\n",
        "\n",
        "\n",
        "'''"
      ],
      "metadata": {
        "id": "Viyhu_tuWvVP"
      },
      "execution_count": null,
      "outputs": []
    },
    {
      "cell_type": "code",
      "source": [
        "# Contar a quantidade de carcteres em uma sequência\n",
        "email = 'doug@gmail.com'\n",
        "print(len(email)) #função len()\n",
        "qtde = len(email)\n",
        "print(qtde)"
      ],
      "metadata": {
        "id": "QTLaUklIW1jE"
      },
      "execution_count": null,
      "outputs": []
    },
    {
      "cell_type": "code",
      "source": [
        "cpf = 12345678910\n",
        "print(type(cpf))\n",
        "cpf = str(cpf) # castig de int para string\n",
        "print(type(cpf))"
      ],
      "metadata": {
        "id": "3LFOYIJKW4Gl"
      },
      "execution_count": null,
      "outputs": []
    },
    {
      "cell_type": "code",
      "source": [
        "# Operador IN (está em)\n",
        "\n",
        "email = 'doug@gmail.com'\n",
        "\n",
        "print('u' in email)"
      ],
      "metadata": {
        "id": "J1XVp60OW6SK"
      },
      "execution_count": null,
      "outputs": []
    },
    {
      "cell_type": "code",
      "source": [
        "# Operador NOT IN (não está em)\n",
        "email = 'doug@gmail.com'\n",
        "\n",
        "print('u' not in email)"
      ],
      "metadata": {
        "id": "TMayUJcTW8QD"
      },
      "execution_count": null,
      "outputs": []
    },
    {
      "cell_type": "code",
      "source": [
        "# Método Title, serve para deixar a primeira letra de cada palavra maiúscula\n",
        "nome = 'silvia matos carvalho'\n",
        "print(nome)\n",
        "nome = nome.capitalize() # metodo capitalize() deixa a 1ª letra maiúscula\n",
        "print(nome)\n",
        "nome = nome.title() # metodo title() deixa a 1ª letra de cada palavra maiúcula\n",
        "print(nome)"
      ],
      "metadata": {
        "id": "kgBxaJb7W-t1"
      },
      "execution_count": null,
      "outputs": []
    },
    {
      "cell_type": "code",
      "source": [
        "# Método upper deixa todas as letras em maiúscula\n",
        "nome = 'Douglas de almeida ribeiro'\n",
        "print(nome)\n",
        "nome = nome.upper()\n",
        "print(nome)"
      ],
      "metadata": {
        "id": "u-lZ7eTjXBCI"
      },
      "execution_count": null,
      "outputs": []
    },
    {
      "cell_type": "code",
      "source": [
        "# Método lower deixa todas as letras em minúscula\n",
        "nome = 'SILVIA MATOS CARVALHO'\n",
        "print(nome)\n",
        "nome = nome.lower()\n",
        "print(nome)"
      ],
      "metadata": {
        "id": "OIm0hZINfYFm"
      },
      "execution_count": null,
      "outputs": []
    },
    {
      "cell_type": "code",
      "source": [
        "# Método para contar quantas vezes um determinado caracter aparece em uma string\n",
        "email = 'doug@gmail.com'\n",
        "email.count('@')"
      ],
      "metadata": {
        "id": "XqIwDOtlXC90"
      },
      "execution_count": null,
      "outputs": []
    },
    {
      "cell_type": "code",
      "source": [
        "# Método que mostra a posição de um determinado caracter (caso apareça mais de uma vez, ele por padrão mostrará a 1ª)\n",
        "# quando não existe a posição ele mostra (-1)\n",
        "email = 'doug@gmail.com'\n",
        "email.find('o')"
      ],
      "metadata": {
        "id": "ues8ZZC2XE7e"
      },
      "execution_count": null,
      "outputs": []
    },
    {
      "cell_type": "code",
      "source": [
        "# Método startswith verifica se uma string começa com um determinado caracter ou sequência de caracteres\n",
        "email = 'doug@gmail.com'\n",
        "email.startswith('doug')"
      ],
      "metadata": {
        "id": "iJp9PyNTXG9d"
      },
      "execution_count": null,
      "outputs": []
    },
    {
      "cell_type": "code",
      "source": [
        "# Método endswith verifica se uma string termina com um determinado caracter ou sequência de caracteres\n",
        "email = 'doug@gmail.com'\n",
        "email.endswith('.com')"
      ],
      "metadata": {
        "id": "dFiLwashXI-a"
      },
      "execution_count": null,
      "outputs": []
    },
    {
      "cell_type": "code",
      "source": [
        "# Método isnumeric() verifica se o conteúdo de uma string é ou não numérico\n",
        "cpf = '12345678910'\n",
        "cpf.isnumeric()"
      ],
      "metadata": {
        "id": "Ogqq9wpmXLCd"
      },
      "execution_count": null,
      "outputs": []
    },
    {
      "cell_type": "code",
      "source": [
        "# Método isalpha() verifica se o conteúdo de uma string é ou não letra\n",
        "nome = 'Douglas Ribeiro'\n",
        "nome.isalpha()"
      ],
      "metadata": {
        "id": "1e-d6gSzXMyj"
      },
      "execution_count": null,
      "outputs": []
    },
    {
      "cell_type": "code",
      "source": [
        "# Método isalnum verifica se o conteúdo de uma string é ou não combinação de letra e número\n",
        "nome = 'Dougla5'\n",
        "nome.isalnum()"
      ],
      "metadata": {
        "id": "aYLuh-6aXOss"
      },
      "execution_count": null,
      "outputs": []
    },
    {
      "cell_type": "code",
      "source": [
        "# Método strip remove espaços indesejados no começo e/ou final da string\n",
        "nome = ' Douglas '\n",
        "print(len(nome))\n",
        "nome = nome.strip()\n",
        "print(len(nome))"
      ],
      "metadata": {
        "id": "09gJ9nt3XRIv"
      },
      "execution_count": null,
      "outputs": []
    },
    {
      "cell_type": "code",
      "source": [
        "# Método replace substitui um caracter por outro\n",
        "# nome_da_string.replace('caracter_indesejado', 'caeacter_desejado')\n",
        "# substitui. Retorna nova string sem modificar a original\n",
        "preco = 'R$ 10.50'\n",
        "preco = preco.replace('.',',')\n",
        "print(preco)"
      ],
      "metadata": {
        "id": "eildeDhBXTLG"
      },
      "execution_count": null,
      "outputs": []
    },
    {
      "cell_type": "code",
      "source": [
        "# Método split (divide uma string em duas ou mais partes por meio de um separador)\n",
        "# o separador pode ser ( - , /)\n",
        "nome = 'Douglas Almeida Ribeiro'\n",
        "nomes = nome.split()\n",
        "print(nomes)"
      ],
      "metadata": {
        "id": "HqZwM8xtXV1R"
      },
      "execution_count": null,
      "outputs": []
    },
    {
      "cell_type": "code",
      "source": [
        "# Método split (divide uma string em duas ou mais partes por meio de um separador)\n",
        "date = '12/05/2023'\n",
        "dia_mes_ano = date.split('/')\n",
        "print(dia_mes_ano)"
      ],
      "metadata": {
        "id": "WCuKgsXvXXjo"
      },
      "execution_count": null,
      "outputs": []
    },
    {
      "cell_type": "code",
      "source": [
        "'''\n",
        "Crie um programa que receba do usuário dois ou mais nomes separados\n",
        "por espaços e no mesmo input e os armazene em uma variável chamada nomes\n",
        "'''\n",
        "\n",
        "nomes = input('Informe dois ou mais nomes separados por espaços: ')\n",
        "print(nomes)\n",
        "'''\n",
        "Imagine que você deseja guardar os nomes informados em um estrutura única\n",
        "porém separando os nomes\n",
        "'''\n",
        "nomes = nomes.split()\n",
        "print(nomes)\n"
      ],
      "metadata": {
        "id": "-bpFi0L7XbB7",
        "colab": {
          "base_uri": "https://localhost:8080/"
        },
        "outputId": "948c4a41-a9c5-4b19-e527-606a83d4418e"
      },
      "execution_count": null,
      "outputs": [
        {
          "name": "stdout",
          "output_type": "stream",
          "text": [
            "Informe dois ou mais nomes separados por espaços: Silvia Jurandi\n"
          ]
        }
      ]
    }
  ]
}