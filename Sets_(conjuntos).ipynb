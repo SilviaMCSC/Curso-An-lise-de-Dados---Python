{
  "nbformat": 4,
  "nbformat_minor": 0,
  "metadata": {
    "colab": {
      "provenance": [],
      "authorship_tag": "ABX9TyOgDPp7inW4cPQrNvej02um",
      "include_colab_link": true
    },
    "kernelspec": {
      "name": "python3",
      "display_name": "Python 3"
    },
    "language_info": {
      "name": "python"
    }
  },
  "cells": [
    {
      "cell_type": "markdown",
      "metadata": {
        "id": "view-in-github",
        "colab_type": "text"
      },
      "source": [
        "<a href=\"https://colab.research.google.com/github/SilviaMCSC/Curso-An-lise-de-Dados---Python/blob/main/Sets_(conjuntos).ipynb\" target=\"_parent\"><img src=\"https://colab.research.google.com/assets/colab-badge.svg\" alt=\"Open In Colab\"/></a>"
      ]
    },
    {
      "cell_type": "markdown",
      "source": [
        "##Sets (conjuntos) { }"
      ],
      "metadata": {
        "id": "JOnsT3rytdE6"
      }
    },
    {
      "cell_type": "markdown",
      "source": [
        "Não são indexáveis\n",
        "\n",
        "Não tem dois pontos\n",
        "\n",
        "Não estão na estrutura de chaves/valor\n",
        "\n",
        "Não podem duplicar valor\n",
        "\n",
        "Não tem garantia do local onde irá aparecer\n"
      ],
      "metadata": {
        "id": "mLyS8FXZtkaH"
      }
    },
    {
      "cell_type": "code",
      "source": [
        "# Criando conjuntos\n",
        "nomes = {'Douglas', 'Daniela', 'Pedro', 'Maria'}\n",
        "pesos = {78, 32, 86, 74}\n",
        "print(nomes)\n",
        "print(pesos)\n",
        "print(type(nomes))"
      ],
      "metadata": {
        "colab": {
          "base_uri": "https://localhost:8080/"
        },
        "id": "Fm_Scn8PuAd-",
        "outputId": "a26f0060-9761-4e87-9a87-4a44d05afcc8"
      },
      "execution_count": null,
      "outputs": [
        {
          "output_type": "stream",
          "name": "stdout",
          "text": [
            "{'Douglas', 'Maria', 'Daniela', 'Pedro'}\n",
            "{32, 78, 74, 86}\n",
            "<class 'set'>\n"
          ]
        }
      ]
    },
    {
      "cell_type": "code",
      "source": [
        "# impossibilidade de receber valores duplicados\n",
        "alturas = {1.85, 1.34, 1.78, 1.69, 1.34}\n",
        "print(alturas)"
      ],
      "metadata": {
        "colab": {
          "base_uri": "https://localhost:8080/"
        },
        "id": "THwEKN1yuCuA",
        "outputId": "505f4e48-87a7-4026-ecf9-41ecd7004269"
      },
      "execution_count": null,
      "outputs": [
        {
          "output_type": "stream",
          "name": "stdout",
          "text": [
            "{1.69, 1.78, 1.85, 1.34}\n"
          ]
        }
      ]
    },
    {
      "cell_type": "code",
      "source": [
        "# Adição de elemento único em um conjunto\n",
        "loja_a = {'garfo', 'faca', 'caneca', 'copo'}\n",
        "loja_b = {'copo', 'caneca', 'taça', 'tigela'}\n",
        "print(loja_a)\n",
        "print(loja_b)\n",
        "loja_a.add('prato')\n",
        "loja_b.add('pote')\n",
        "print(loja_a)\n",
        "print(loja_b)\n",
        "# Adição de mais de um elemento em um conjunto\n",
        "loja_a.update(['bule', 'chaleira'])\n",
        "print(loja_a)\n",
        "# União de conjuntos\n",
        "loja_c = loja_a.union(loja_b)\n",
        "print(loja_c)"
      ],
      "metadata": {
        "colab": {
          "base_uri": "https://localhost:8080/"
        },
        "id": "D23t8-fDuFWB",
        "outputId": "94d09ff3-3054-4050-b3d6-130b7e30e48c"
      },
      "execution_count": null,
      "outputs": [
        {
          "output_type": "stream",
          "name": "stdout",
          "text": [
            "{'garfo', 'faca', 'caneca', 'copo'}\n",
            "{'taça', 'caneca', 'copo', 'tigela'}\n",
            "{'garfo', 'faca', 'prato', 'caneca', 'copo'}\n",
            "{'taça', 'pote', 'tigela', 'caneca', 'copo'}\n",
            "{'garfo', 'faca', 'bule', 'chaleira', 'prato', 'caneca', 'copo'}\n",
            "{'garfo', 'taça', 'faca', 'bule', 'chaleira', 'pote', 'prato', 'tigela', 'caneca', 'copo'}\n"
          ]
        }
      ]
    },
    {
      "cell_type": "code",
      "source": [
        "# Intersecção de conjuntos\n",
        "loja_a = {'garfo', 'faca', 'caneca', 'copo'}\n",
        "loja_b = {'copo', 'caneca', 'taça', 'tigela'}\n",
        "interseccao = loja_a.intersection(loja_b)\n",
        "print(interseccao)"
      ],
      "metadata": {
        "colab": {
          "base_uri": "https://localhost:8080/"
        },
        "id": "Qdoe6vhSuHal",
        "outputId": "41d753d9-cbaa-4073-8cad-5c5104dc7d92"
      },
      "execution_count": null,
      "outputs": [
        {
          "output_type": "stream",
          "name": "stdout",
          "text": [
            "{'caneca', 'copo'}\n"
          ]
        }
      ]
    },
    {
      "cell_type": "code",
      "source": [
        "# Verificando os elementos exclusivos na comparação de conjuntos\n",
        "loja_a = {'garfo', 'faca', 'caneca', 'copo'}\n",
        "loja_b = {'copo', 'caneca', 'taça', 'tigela'}\n",
        "only_a = loja_a.difference(loja_b)\n",
        "only_b = loja_b.difference(loja_a)\n",
        "print(only_a)\n",
        "print(only_b)"
      ],
      "metadata": {
        "colab": {
          "base_uri": "https://localhost:8080/"
        },
        "id": "Mn090GZ_uJKc",
        "outputId": "5cc0c5ba-e6b3-4b2e-d0dd-d7e3bdecc4cf"
      },
      "execution_count": null,
      "outputs": [
        {
          "output_type": "stream",
          "name": "stdout",
          "text": [
            "{'garfo', 'faca'}\n",
            "{'taça', 'tigela'}\n"
          ]
        }
      ]
    },
    {
      "cell_type": "code",
      "source": [
        "# Excluíndo elementos de um conjunto pelo método remove\n",
        "loja_a = {'garfo', 'faca', 'caneca', 'copo'}\n",
        "loja_b = {'copo', 'caneca', 'taça', 'tigela'}\n",
        "loja_a.remove('faca')\n",
        "print(loja_a)\n",
        "'''\n",
        "esse método remove o elemento caso ele exista, caso não existe ele 'crasha' o\n",
        "código\n",
        "'''"
      ],
      "metadata": {
        "colab": {
          "base_uri": "https://localhost:8080/",
          "height": 53
        },
        "id": "fr9q2RPruMzf",
        "outputId": "f1fb3d1a-a3b4-410e-d651-b82a00af8921"
      },
      "execution_count": null,
      "outputs": [
        {
          "output_type": "stream",
          "name": "stdout",
          "text": [
            "{'garfo', 'caneca', 'copo'}\n"
          ]
        },
        {
          "output_type": "execute_result",
          "data": {
            "text/plain": [
              "\"\\nesse método remove o elemento caso ele exista, caso não existe ele 'crasha' o\\ncódigo\\n\""
            ],
            "application/vnd.google.colaboratory.intrinsic+json": {
              "type": "string"
            }
          },
          "metadata": {},
          "execution_count": 6
        }
      ]
    },
    {
      "cell_type": "code",
      "source": [
        "# Excluíndo elementos de um conjunto pelo método dicard\n",
        "loja_a = {'garfo', 'faca', 'caneca', 'copo'}\n",
        "loja_b = {'copo', 'caneca', 'taça', 'tigela'}\n",
        "loja_a.discard('carro')\n",
        "print(loja_a)"
      ],
      "metadata": {
        "colab": {
          "base_uri": "https://localhost:8080/"
        },
        "id": "RWlPCAhtuO1g",
        "outputId": "05ca56b7-da66-4b5f-abe4-51b4f283fdbb"
      },
      "execution_count": null,
      "outputs": [
        {
          "output_type": "stream",
          "name": "stdout",
          "text": [
            "{'garfo', 'faca', 'caneca', 'copo'}\n"
          ]
        }
      ]
    },
    {
      "cell_type": "code",
      "source": [
        "# Excluindo todos os elementos de um conjunto\n",
        "loja_a = {'garfo', 'faca', 'caneca', 'copo'}\n",
        "loja_a.clear()\n",
        "print(loja_a)"
      ],
      "metadata": {
        "colab": {
          "base_uri": "https://localhost:8080/"
        },
        "id": "gzbem2-6uRGP",
        "outputId": "0d542f5a-746d-4d29-a72e-46b9f2ac82dc"
      },
      "execution_count": null,
      "outputs": [
        {
          "output_type": "stream",
          "name": "stdout",
          "text": [
            "set()\n"
          ]
        }
      ]
    }
  ]
}