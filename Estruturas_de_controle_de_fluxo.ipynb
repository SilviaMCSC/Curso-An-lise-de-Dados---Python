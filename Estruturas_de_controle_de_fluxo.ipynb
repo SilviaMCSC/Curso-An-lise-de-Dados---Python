{
  "nbformat": 4,
  "nbformat_minor": 0,
  "metadata": {
    "colab": {
      "provenance": [],
      "authorship_tag": "ABX9TyOIp6bMv5ydhOWltKOfOcl8",
      "include_colab_link": true
    },
    "kernelspec": {
      "name": "python3",
      "display_name": "Python 3"
    },
    "language_info": {
      "name": "python"
    }
  },
  "cells": [
    {
      "cell_type": "markdown",
      "metadata": {
        "id": "view-in-github",
        "colab_type": "text"
      },
      "source": [
        "<a href=\"https://colab.research.google.com/github/SilviaMCSC/Curso-An-lise-de-Dados---Python/blob/main/Estruturas_de_controle_de_fluxo.ipynb\" target=\"_parent\"><img src=\"https://colab.research.google.com/assets/colab-badge.svg\" alt=\"Open In Colab\"/></a>"
      ]
    },
    {
      "cell_type": "markdown",
      "source": [
        " ## Estruturas de controle de fluxo"
      ],
      "metadata": {
        "id": "_9GCmL3RwBXx"
      }
    },
    {
      "cell_type": "markdown",
      "source": [
        " IF ELIF ELSE"
      ],
      "metadata": {
        "id": "RMPfMMldwDcS"
      }
    },
    {
      "cell_type": "markdown",
      "source": [
        "\n",
        "Imagine que você deseja pedir ao usuário que digite uma nota de 0 a 10\n",
        "\n",
        "e caso a nota seja maior ou igual 6 seja exibida a mensagem: Parabéns você foi\n",
        "aprovado!\n",
        "\n",
        "Caso contrário exiba: Infelizmente você não foi aprovado dessa vez!\n",
        "continue tentando.\n"
      ],
      "metadata": {
        "id": "1RfeybG2_OBF"
      }
    },
    {
      "cell_type": "code",
      "source": [
        "nota = float(input('Informe uma nota de 0 a 10: '))\n",
        "if nota >= 6:\n",
        "  print('Parabéns você foi aprovado!')\n",
        "else:\n",
        "  print('Infelizmente você não foi aprovado dessa vez! continue tentando.')"
      ],
      "metadata": {
        "colab": {
          "base_uri": "https://localhost:8080/"
        },
        "id": "FZOP-ZqBwF5r",
        "outputId": "eef564af-c899-45a4-eae4-7b2383c1a7c6"
      },
      "execution_count": null,
      "outputs": [
        {
          "output_type": "stream",
          "name": "stdout",
          "text": [
            "Informe uma nota de 0 a 10: 7\n",
            "Parabéns você foi aprovado!\n"
          ]
        }
      ]
    },
    {
      "cell_type": "code",
      "source": [
        "'''\n",
        "Agora imagine que você tem três possibilidades:\n",
        "1ª Nota maior ou igual a 6: 'Parabéns você foi aprovado!'\n",
        "2ª Nota menor que 6, mas maior ou igual a 4: 'Você deverá fazer uma prova de recuperação'\n",
        "3ª Nota menor que 4:'Infelizmente você não foi aprovado dessa vez! continue tentando.'\n",
        "'''\n",
        "nota = float(input('Informe uma nota de 0 a 10: '))\n",
        "if nota >= 6:\n",
        "  print('Parabéns você foi aprovado!')\n",
        "elif nota >= 4:\n",
        "  print('Você deverá fazer uma prova de recuperação')\n",
        "else:\n",
        "  print('Infelizmente você não foi aprovado dessa vez! continue tentando.')"
      ],
      "metadata": {
        "colab": {
          "base_uri": "https://localhost:8080/"
        },
        "id": "Z_kZNSuYwJYI",
        "outputId": "07eb10de-f691-4fa3-db1d-93c99b3b4488"
      },
      "execution_count": null,
      "outputs": [
        {
          "output_type": "stream",
          "name": "stdout",
          "text": [
            "Informe uma nota de 0 a 10: 7\n",
            "Parabéns você foi aprovado!\n"
          ]
        }
      ]
    },
    {
      "cell_type": "code",
      "source": [
        "'''\n",
        "Agora imagine que você tem quatro possibilidades:\n",
        "1ª Nota maior ou igual a 6: 'Parabéns você foi aprovado!'\n",
        "2ª Nota menor que 6, mas maior ou igual a 4: 'Você deverá fazer uma prova de recuperação online'\n",
        "3ª Nota menor 4, mas maio ou igual a 2: 'Você deverá fazer uma prova de recuperação presencial'\n",
        "4ª Nota menor que 2:'Infelizmente você não foi aprovado dessa vez! continue tentando.'\n",
        "'''\n",
        "nota = float(input('Informe uma nota de 0 a 10: '))\n",
        "if nota >= 6:\n",
        "  print('Parabéns você foi aprovado!')\n",
        "elif nota >= 4:\n",
        "  print('Você deverá fazer uma prova de recuperação online')\n",
        "elif nota >= 2:\n",
        "  print('Você deverá fazer uma prova de recuperação presencial')\n",
        "else:\n",
        "  print('Infelizmente você não foi aprovado dessa vez! continue tentando.')"
      ],
      "metadata": {
        "colab": {
          "base_uri": "https://localhost:8080/"
        },
        "id": "yPu683rywNZX",
        "outputId": "8918b387-704b-4cca-cb15-65e3aaacd112"
      },
      "execution_count": null,
      "outputs": [
        {
          "output_type": "stream",
          "name": "stdout",
          "text": [
            "Informe uma nota de 0 a 10: 5\n",
            "Você deverá fazer uma prova de recuperação online\n"
          ]
        }
      ]
    }
  ]
}