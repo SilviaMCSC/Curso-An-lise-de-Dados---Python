{
  "nbformat": 4,
  "nbformat_minor": 0,
  "metadata": {
    "colab": {
      "provenance": [],
      "include_colab_link": true
    },
    "kernelspec": {
      "name": "python3",
      "display_name": "Python 3"
    },
    "language_info": {
      "name": "python"
    }
  },
  "cells": [
    {
      "cell_type": "markdown",
      "metadata": {
        "id": "view-in-github",
        "colab_type": "text"
      },
      "source": [
        "<a href=\"https://colab.research.google.com/github/SilviaMCSC/Curso-An-lise-de-Dados---Python/blob/main/CURSO_AN%C3%81LISE_DE_DADOS.ipynb\" target=\"_parent\"><img src=\"https://colab.research.google.com/assets/colab-badge.svg\" alt=\"Open In Colab\"/></a>"
      ]
    },
    {
      "cell_type": "markdown",
      "source": [
        "\n",
        "##ANÁLISE DE DADOS  - PYTHON"
      ],
      "metadata": {
        "id": "idK12k6M_BtT"
      }
    },
    {
      "cell_type": "markdown",
      "source": [
        "#Aula 01 - Dados"
      ],
      "metadata": {
        "id": "dqw8m9Fx_aOf"
      }
    },
    {
      "cell_type": "markdown",
      "source": [
        "Dados por si só, são apenas registros.\n",
        "Análise de dados consiste em transformar registros em algo útil, em conhecimento.\n",
        "\n",
        "\n",
        "\n",
        "\n",
        "![image.png](data:image/png;base64,iVBORw0KGgoAAAANSUhEUgAAAcIAAAFTCAYAAACqIgyjAAAAAXNSR0IArs4c6QAAAARnQU1BAACxjwv8YQUAAAAJcEhZcwAADsMAAA7DAcdvqGQAACAiSURBVHhe7duNtdM6E4Xh2wI10AI9UAI10AId0AEdUAEV0AAN0AE9nO/bwHAH3S1ZTvwn633W2gtIHMeWpZnj5PDPCwAAE6MRAgCmRiMEAEyNRggAmBqNEAAwNRohAGBqNEIAwNRohACAqdEIAQBToxECD/jnn39+BsD4WMnAStEEaYbAPbCKgRXKJhgBMC5WMNDJNcAcAGNi9QKdXPPLATAmVi/QwTU+FwDjYeUCHVzTcwEwHlYusMA1vFYAjIVVCzS4RqcE95wCYBysWKDBNTkluOcUAONgxQIVrsEpJbeNAmAMrFbAcI1NqXHbKgCuj5UKGK6pKTVuWwXA9bFSgYJraMoS9xoFwLWxSoHCM83MvVYBcF2sUCBxTUzp5V6rALguVijwm2tgylpuHwqAa2J1Ar+55qU8Yqv9ANgfqxP4P9e4lEe5fSkAroeViem5hqU8y+1TAXAtrEpMzzUr5VlunwqAa2FVYmquUSlbcftWAFwHKxJTO6JJufdQAFwDqxHTcs1J2Zp7DwXANbAaMSXXmJS9uPdSAJyPlYgpuaak7Ono9wPQh5WI6biGpOzNvacC4FysQkzFNSLlKO69FQDnYQViKq4JKUdx760AOA8rENNwDUg5mjsGBcA5WH2Ygms8ylncsSgAjsfKwxRc01HO4o5FAXA8Vh5uzzUc5WzumBQAx2LV4fau3GyufGzALFh1uDXXaJSrcMemADgOKw635RqMcjXuGBUAx2C14bZcc1Guxh2jAuAYrDbckmssylW5Y1UA7I+VhttxDUW5OnfMCoB9scpwO66ZKFfnjlkBsC9WGW7FNRJlFO7YFQD7YYXhVu7QRO5wDsBIWGG4DddAlNG4c1AA7IPVhVtwjUMZlTsXBcD2WFm4Bdc0lJHd7XyAq2JlYXiuYSijc+ekANgWqwpDc41CuQt3bgqA7bCiMDTXJJS7cOemANgOKwrDcg1CuRt3jgqAbbCaMKyZmoM7VwXA81hJGJJrCspduXNVADyPlYThuIag3J07ZwXAc1hFGI5rBsoMZj1vYE+sIgzFNQJlFu7cFQCPYwVhGK4BKLNxY6AAeAyrB8NwxV+ZjRsDBcBjWD0Ygiv8yqzcWCgA1mPl4PJcwVdm58ZEAbAOqwaX54q9Mjs3JgqAdVg1uDRX6BX84sZGAdCPFYNLo8gvY4yA57BicFmuwCv4mxsjBUAfVgsuyRV2BZ4bKwXAMlYKLskVdQWeGysFwDJWCi7HFXQFbW7MFABtrBJciivkCvq4sVMA1LFCcCmuiCvo48ZOAVDHCsFluAKuYB03hgoAj9WBy6B4b4exBPqxOnAJrnAreIwbSwXAf7EycDpXsBU8x42pAuBvrAqczhVrBc9xY6oA+BurAqdyhVrBNtzYKgD+xYrAaVyBVrAtN8YKgF9YDTiNK84KtuXGWAHwC6sBp3CFWcE+3FgrAGiEOAlF+XhuzBVgdqwCHM4VYwX7cmOuALNjFeBQrhArOIYbewWYGSsAh3JFWMFxGH/gb6wAHMYVYAXHctdAAWbF7MchXOFVcA53LRRgRsx8HMIVXQXncNdCAWbEzMfuXMFVcC53TRRgNsx67I5ie13u2ijATJjx2JUrsgquwV0bBZgJMx67cQVWwbW4a6QAs2C2YzcU13FwrTAzZjt24Qqrgmty10oBZsBMx+ZcQVVwbe6aKcDdMcuxOVdMFVybu2YKcHfMcmzKFVIFY3DXTgHujBmOzbgCqmAs7hoqwF0xu7EZVzwVjMVdQwW4K2Y3NuEKp4IxuWupAHfEzMYmKJr3wzXFLJjZeJormArG5q6pAtwNsxpPcYVSwT24a6sAd8KMxlNckVRwD+7aKsCdMKPxMFcgFdyLu8YKcBfMZjzEFUYF9+SutQLcATMZD3FFUcE9uWutAHfATMZqriAquDd3zRVgdMxirEYxnJe79gowMmYwVnFFUMEc3LVXgJExg9HNFUAFc3FzQAFGxexFN1f8FMyHeYA7Yfaiiyt8Cubk5oICjIiZi0Wu4CmYm5sTCjAaZi0WuWKnYG5uTijAaJi1aHKFTgHEzQ0FGAkzFk0UOSxxc0QBRsFsRZUrbgqQuTmiAKNgtsJyhU0BHDdXFGAEzFRYrqgpQA3zBaNipuI/XEFTgBY3ZxTg6pil+IsrZArQw80dBbgyZij+4oqYAvRwc0cBrowZij9cAVOANdwcUoCrYnbiJ1e4FOARbi4pwBUxM/GTK1oK8Ag3lxTgipiZsAVLAZ7h5pQCXA2zEhQr7Ia5hREwKyfnCpUCbMHNLQW4EmbkxFyBUoAtuTmmAFfBbJyYK04KsCU3xxTgKpiNk3KFSQH24OaaAlwBM3FCriApwJ7cnFOAszELJ+SKkQLsyc05BTgbs3AyrhApwBHc3FOAMzEDJ0MRwtncHFSAszD7JuKKjwIcyc1BBTgLs28SrvAowBncXFSAMzDzJuGKjgKchfmIq2DmTcAVHAU4k5uTCnA0Zt3NuUKjAFfg5qYCHIkZd3OuyCjAFbi5qQBHYsbdmCswCnAlbo4qwFGYbTdGccEo3FxVgCMw027KFRUFuCI3VxXgCMy0G3IFRQGuzM1ZBdgbs+yGXDFRgKtj3uIMzLKbcYVEAUbg5q4C7IkZdiOugCjASNwcVoC9MLtuxBUPBRiJm8MKsBdm1024wqEAI3JzWQH2wMy6AVcwFGBkbk4rwNaYVTfgioUCjMzNaQXYGrNqcK5QKMAduLmtAFtiRg2OIoG7Y45jb8yogbkCoQB34ua4AmyF2TQoVxgU4I7cXFeALTCTBuWKggLckZvrCrAFZtKAXEFQgDtzc14BnsUsGowrBAowAzf3FeAZzKDBuCKgADNwc18BnsEMGogrAAowE7cGFOBRzJ6BsPiBX1gL2BKzZxBu4SvAjNxaUIBHMHMG4Ba8AszMrQkFWItZMwC32BVgdqwLbIFZc3FuoSsAWB/YBjPmwtwCVwD8y60RBejFbLkwt7gVAP9ya0QBejFbLsotbAXAf7m1ogA9mCkXxaIG1nFrRgGWMEsuyC1mBUCdWzMKsIRZcjFuISsAlrm1owAtzJCLcYtYAdCH9YO1mCEX4hawAqCfW0MKUMPsuAi3cBUA67m1pAAOM+Mi3KJVAKzn1pICOMyMC3ALVgHwOLemFKDErDiZW6gKgOe5taUAGTPiZG6RKkf4+vXry7t3715evXr1533fvn378vnz599bePG6169f/3md9tHz2jdv3vzZvrXtt2/f/mxXiuPVNi217b5///7nuVa0naPH379//9f567w+fvz48uPHj99b/dI6jw8fPvx5vfZVez9HYx2v1bGU8r5rKV+XX6O/t5Rj++nTpz+v7U15XTR2GsN8borGVse6ZnxC3k8OkDEjTuQWqLI3FZyy2JRR8SmLes/rFBX1WpPK26mYlu8R1Gxju1I8rm1aatvlfet8anHHttRgdE753FvnoffIr3UNzdEPEPl12k8p9q1rEedTRs0r02N5v63xLbd5thHqnHp+OFlq0I7bjwIEZsOJzlqccVem6Cfw/JP2ly9f/hREPRfUFMrX5UKmv+uxeL7W5OL5uJuqFbZWA4nHW4Vaatu19t2Sm6DuiMvzVyPTcxq/0HqvGOf4s/WDQRbbxxjm9wuxTb6GS8r96nrX6HmldQ16xzk3dr2n5mCMg/7Uv8u5t1a8NgcIzIaTuIWp7C03q9ZHkyr6ueDk1+UGUNJzsZ27w8nPxd/dR16tIhqPt4qw1LbrLdBZfk3rzk1jqiYZWu+Vm1U0n9Y1kRhfbR/XZOtGmK9N7Xji+dY16BlnNbq4E8zj5uj52N/aj0njdWUAYSacwC1I5QhRdFrFvJSLVU9hzYW0vMOJx1Uko/i7AtgqonkfLbXtegp0KYqwjnmN1nvlZhUfLbbuwiTGVq/ZqxHqNfE+Ot/yGoqeU1rXoGec4xx67obV/GJ/fESKLTELTuAWo7I3fcQU79W6qyvl1/X8JJ7vCstCmR/P+y23axXR2mtKte1a+3ZUoGP78nu1Ja33yo0nF/natcnHoe33bITaf+uHHz2utK5BzzjHR569P5jFDyTunJfEsZQBmAUHcwtROUIUThW4NeJ1a+6G4rzKIhqPRwGN4lsWtlYRLfdRU9uup0Bnefs1P0BI673KZhVFvtYU4q4x7qDjurimUO67R/ma2L+7W9PjSusa9IxzPL/0kXCIY2rtsyVeWwZzYwYcyC1A5ShR6FzhbHnkp/D4Sb8sxHHOUUDz3WMuhq0iGo/3pizWed86J5d85/tM8W2dh95Hj8cYxR1y7WPC+Cg5zieOS/spxb71mjinnPK6iB7Px6NjiPcsm7MeU8qxzVrnLq1PDmrypwiPiteXwby4+gdyi085ShQ6/bnGI68ri2qIc86FL38fFVpFNB7vTVlk875ryXd+0XCUtVrn4cYoGk95hxQNII9RHJe7LrHvWuKuMnPHo+OI1+QfDuKxcmyz1rlLfr61n2xpnz3i9WUwL67+QdzCU44Uhc4VzpZHXhcFvacRuu+jWgXP7cOpbbe2mEbD6d0+a72XazzxXuUvzcS2+TvK2NZdF7fvJbXXxN19fh/9W2ldg6Vxzs+39pPlxvyM2EcZzIkrf5ArLLr4f3D5rqJHrTi3xDmWv1wSj5eFL94jPhZsFdHaPkq17Vr7dtb+slDWei/XeLT/2D6OOz+WPzKNMdu7EeZziGMq/+20zj3E8xrjHnmePCveOwdz4sofwC045WjxyxbKmoKeX+e+uyrlAlj+ckk8XhbQ/H2Uil2riNb2Uapt19q3U/ses0frvWqNp/ylmfgBpvyeLprC3o1Qyu+J9XeldQ16xjk+Cej97xBxjO6j3bXi2MpgPlz1nbmFppwh31msKZD5dT2NwH3nF2I/roDmj71aH4HF460iLLXtegp0KZq0azotrfeqNZ587hr7aBblDxVHNsJyDsTfW9egZ5xbc6W0dh72iP2VwVy44jtzi0w5SxQ7pSysme4C80/d8ToV5dbrymZWiudqBTS+j4rGo5SW9hFq2/UU6FI0HaX8uDfTvnNRb71Xq/FE84vxcB9LH9kIJX+0rj+V1jXoGee8TXnHm+kTgzw3thLvXQZz4YrvyC0w5Uz5DkNR0dNjQd/VREHMhUnNL16nP9UM8uv0fPx0r7jiLPF8rYDmwhgpxeOtIiy17fJ7rBGFWNEPCfkHgnz+WzTCaDoR90PF0Y1QzSjPHaV1DXrHOc8bjWv+vlDvqXPvbb6PiP2WwTy42jtxC0u5AhXtXFhcVPTL7wNzM2xFxax8bYhtWsUsCnKk1LMPqW2XC7Teq5bc6EXnpMfjtS4an9wg83uVYl+u8eSPAbVPN549jVDXWX93Kd9Xj9WOJ8R7RlrXoHXupdwMa9E49P5SzVru/RTMgSu9E7eolKtQYdVdXRS/iJpY6/uX2utUcFXMWoVRopHmZlFSE4hGrfcp9exDattp//FcK7X9a3w0Tnkf+sFB41I2LO1Dz2vbkvah52oftS41Jr1Oz7sxKu8oXfT+2dLxhDgunZNr0KF17o7mjuZQ+UOa3s+N7Zby++VgDlzpHbgFpQC4LrdmFdwfV3kHLCZgTG7tKrg3rvDG3CJSAFyfW7sK7o0rvCG3gBQA43BrWMF9cXU35BaPAmAsrOO5cHU34haOAmA8bi0ruCeu7AbcglEAjMutaQX3w1XdgFssCoBxuTWt4H64qk9yC0UBMD63thXcC1f0SSwS4N7cGldwH1zNJ7jFoQC4D7fGFdwHV/NBbmEoAO7HrXUF98CVfBCLApgLa/6+uJIPcAtCAXBfbs0rGB9XcSW3EBQA9+fWvoKxcQVXcotAAXB/bu0rGBtXcAW3ABQA83A1QMG4uHqd3MRXAMzH1QIFY+LKdXKTXgEwH1cLFIyJK9fBTXgFwLxcTVAwHq5aByY7AIfacA9ctQVuoisA4GqDgrFwxRrcBFcAILgaoWAcXK0GN7kVAAiuRigYB1erwk1sBQBKrlYoGANXynATWgGAGlczFFwfV8lwk1kBgBpXMxRcH1ep4CayAgBLXO1QcG1coQKTGMAzXA1RcF1cncRNXgU4y/fv31/ev3//8vbt25fPnz//fvSXd+/evXz69On3v3AVroYouC6uzm9u4irAmV6/fv3XfFTz+/Hjx8/o3x8+fPi9Ja4kX7McXBNX5jc3aRXgLF+/fv05Bz9+/Piz8enOUP9Wc4wGWd4l4jqihuTgmrgy/+cmrAKcKRqh/gxqiq9evfr5OHeD15ZrSQ6uZ/qr4iaqAgDPcrVFwbXQCM0kVa5O3xXpON0vS7x58+bnc7pzaH109u3btz/blXS3EWNRi17v6A5Gx5e/39J7uF/4yPSLIXG3U0bnFB8ROvl49b7aVy8dV7xWHz8uibFXvnz58vvRZTEu+RyXxiToOsdr1twJarw0bvkcFY2nznXNOGG9POY5uJapr4iboMoIorCpyJXyuajo1ppHfPSmlMrC6VI2Qr1Pz+vUqFwTzcej/URyQ1UBd+dTvm9PQxM1ofw67adFjSNvr8a2pGdcaucVyh8qeujcaj9Y5PAR677cmCu4DhrhoJMzCmurEUbxrBW6nkbo9u+oiMedaLwuNzv9XY/F865Bt45Hz0VRd00ujjf+bP0AkMX2MVb6d0vcmeW7wqW7qnJc8va6o1waa42dntd+4jiX7iJzg9fr9D4xHvpT/y6PC/uJcS6Da5j2SrhJqYyiVTzjXOK3DBVXrLdshNou9uXu9kIUdaVsaK3jkfwepXy8vc0ijkXbx76XGmHsW+MZ79n6v3z5mFvHox9WtK0T11Gvj/217kTV6OKHhqU71jUNHY+LMS6Da5jySrgJqYykpxGqsUThdgVxq0aYC2/P9rlB57u2pUbYe7xx16Y7npY4Dr1G0d9bjTDfmUncdbXep3UX2yv2obFSs9Lf499OnEvPXXHeHx+R7ivGuQzON+VVcJNRGUlvI9RHYPnf2VaNML9Hz11FvivMx9Q6HsnvU8rHm4t77e5UDSK20fY9jVCNQtvEHWDeh3uffLy141gS+8g/yMRHmrU70Xi+t/nGXWHr3LENjXMZnG+6q+AmojKa3kYosW1Z6LZqhNFEdPfZK94373+pEUbBdndg5fHGtrVmkL/rkziHcoyyuDPLzT7ex91NxT71ukfF/vPHqkt3vHqufE1LHKeCfcU4l8G5proCbgIqI2o1qjivaIT5DiwXx60aYRTrVhMpxV1L3n/teNR48sepcV5ZebxxJ1X7eDA+Mo59RTOonYO7M5N43P0QEMe0ZlyyuOMsG2l5N5vV7rZb8p0r9hdjXQbnmWr03eRTRlQW/izOKxfCaCS5YNcaj8T+tb3+Xibfaenf2lZ/9orX1Bqhi46l9hGj2180u/LOyDWvpUYY4+fusuJOUfvNHhmXTO+l17u72tqdaB7D3kbYmgfYXox1GZxnmtF3E08ZlSv8Ic4tF0LdOUTBjte0CmDsv5bcRB4p+NGkao1Q+1JiOx27O9cQx5C30d/1WPkRYmybv2OLbd055Dswd3cZTbJsWPE+bp894q65bLASTTJfB8ljmK9/S+xLwTFivMvgHFOMvJtwyshc4Q9xfmUhjGIfHxf2NEK3/1Kt4bTE++ZmVDue/NFd7Xjc8ar5x+tiLPJjuanFObimFY1C46bny0TDKvcZDbJsVj3ycbr3VOL5slHWHq+Jc9f54ThxncrgeDTCQUUhdI0hzq9shCrS+U5sq0YYv7yhuDumUn7f/FFn63hysXbvUTve+Agx7tbiNz/Lu7fYv/ZTyk1nKfmj0zwu5Xd5S+J4elKei8ZIj/f+d4g4v/L7T+wrX8McHO/2o+4mmjK6VqOKcywboeSPwVofibX2X8p3L7kR1NTulFqNUM0vCrw7ptrx5nPUccY+yu8ao/FoP1ntDrIUDTa/Pr+2Zxyz+IGldVcXd8rlDwdr7kTXXjtsK8a+DI41ZSO8g0cbocRHeVFsldKaRiixvYpy7RdapGzEWasRSjQbV+BbxxvNL87bfYRba4Tx+NLdUj52NZcQx6W0xkV3j/EesS8d95LYdx7LfCzl3WKm5pnnAs4R1yoHx7r1iLsJptxBq/DHedYaYS6UkVJr/46KfDQc/anCnhuCno87FaVsOJKPy2ndvbSONxpo7bVSa4Txw4J7TSnOP3/vqWOOxxW9Tx4X3dXFsUfTinFqNbEQH/2WjTqPtZ7Ld5ZqgDqf/INQba5gf3ENyuA4tx1tN7GUu2gV/jjXVnGL10dKrf3X5GbYigqz+5hxqRFKFP6yYbWONzdQHZ97b9cIdT7xuty8aqL5lHdXPeOiO7M4rti2p/lqm9hHeYy5Gdai9+r9pRrsx10bBcegEQ4qGkK++whRSFWAa1Q0446gbCrS2n+LirleE40povdSYW4152g8Ov6a3CxzQ1s63lajFL1Oz+excI+15GMrm1KMS3wUGdG/c8PLY+AadknbtBqnjknjnu/+FJ2TjqfnPbC/fG1ycIxbjrSbUApwBXEX1/tbnZhDWa8i2N/tRtlNJAW4Et3Fte58MSdXuxTsi0YInCA+qm19VIz5lHUrgn3daoTdBFKAK9BHomqA0QSVnl/CwVxy7crBfm7fCIGrUCOMX1rRn+6XWwAp61gE+7jNyLpJowDAaFwtU7CPW4ysmzAKAIzK1TQF26MRAsBFUdeOMfyouomiAMDoXG1TsK2hR9RNEAUA7sLVOAXboRECwIW5GqdgO8OOppsYCgDcjat1CrZxq0YIAHflap6C5w05im4yKABwV67mKXjecKPoJoICAHfnap+C59AIAWAg1L/tDTWCbgIoADALVwMVPG6Y0XMXXgGA2bhaqOAxNEIAGIyrhQoeM8TIuQuuAMCsXE1UsN7lR81daAUAZudqo4J1aIQAMChXGxWsc+kRcxdYAQD84mqkgn7DNUIAwN+olc+57Gi5C6sAAP7maqWCPpccKXdBFQCA52qmgmU0QgC4AVczFSy73Ci5C6kAANpc7VTQdqkRchdQAQD0cTVUQR2NEABuxNVQBXWXGR134RQAwDqulirwLt0IAQCPcTVVwX9dYlTcxVIAAI9xNVXBf50+Ku5CKQCA57jaquBvNEIAuDHq67JTR8RdIAUAsA1XYxX867TRcBdGAQBsy9VaBb/QCAHg5lytVfDLKSPhLogCANiHq7kKLtQIAQD7crVXmd3hI+AuggIA2JervcrsDh0BdwEUAMAxXA1WZkYjBIDJUIf/dtjZu4FXAADHcrVYmdUhZ+4GXAEAnMPVZGVGNEIAmJCrycqMdj9rN9AKAOBcrjYrs9n1jN0AKwCAa3A1WpkJjRBD+v79+8urV6/s/Hr9+vXL+/fvX758+fJ762Xfvn378/o3b978frTuw4cPf71nztu3b18+ffr08xh7/Pjx4+Xjx48/X5f3o+PQeSztR+f57t27v8YjjkH7BlrynMuZyW5n6wZWAbbw9evXP3NKRT8nzzc1EzW5JWo4+XVLr4n3UdPN761/5/2owbV8/vy52tBz1HidfNxxLPkY1AyBJTFfyszi0EYIbCU3Qic3GP25dFcV2+rOSn+qwbREI3SNTu8V+1FqTUzHGNuoYevOLu7g9Kf+rcdjm/K98hhoX5kauY6RRoheMZdyZrHLmboBVYCtLDVCUTOJBqemUBMNSc0v9qvXtbQaYdBz2kbRfrN8bGqaLbmp5oYe++/5KBdYEnOszAw2P0s3kAqwpZ5GKHm7shmFaDTxnWJ8tNj6jrGnEUpsVzbiaGJqhkvf46n5aVsl313GcbeaPLBGzLMyd0cjxJB6G6FEY3MfUaoJ6bl8Bxi/CNO6U+tthPnjz9zw4iPPpY9gg2t6+Y6z53tQYEnMpzJ3t+kZugFUgK2taYStOyd9h6bnckPKv0Fau1vrbYR5X/mONB4rv9uryU0v6E4xPl7Vn3wfiC3EPCtzZ5udnRs4BdjDmkYYTUR3hqW4MyvvqOLxWqPqbYSi7fK+as2xRR/Txmsy7SuaoaJz1DEtfdwKtMR8KnNXNEIM6ZFGWG4b3725Bhl3irVfRHmkEca2+dh7G2HrfHUe+b9RKNwh4hl5LuXc1SZn5gZMAfbySCMsPxqN7wLdd4f5F1T099IjjTCa3iONMH/XWKPj1PHkO8Se4wOcmENl7mi3RgjsaU0jjKZVNsL4JRrd9em5MtFQXKPU83puqdHUml481vrN1CyauY5piRpifLSruEYO9Ig5lHNHT5+VGygF2NOaRhgNLTet/PqluI9OexthfMSqZK0m68T7tX6TNct3tHxEikfFHCpzN0+dkRsgBdhbbyPMjSjfGcV3aq1GFP+1Qsl3c9LTCPX6uOss/5tEvL9rsqXc1Hp/y1TiNUvNGmiJeVTmTmiEGFJPI8y/UZnvpNSg4vHyt0VL0fDKRtbTCPMvsJTvk4+/3HemY42POXuaZsj7L5s4sFbMpZw7efhs3MAowBFajVDPxS/CKGok+b8TxC+e9DSWuKMsv5urNULdvWn/+Tu62l1cbpRq1Pn7Qh2vXhd3lErZ0HRM2odeV55fNHodB/CsmINl7uKhM3EDogBHyY2wFTWs3CQk/oN9604s1D6WjEbYippRrQmG3Axr0X7cL9W4bXPURJfueIFebo4pd0AjxJDUoOKup4zugtRgah8Jxutqz5fcx6P5jjNH+9b2upMsG3CNjkP7znd/ytJ+4nVlU177/kCPPMdy7mD1WbiBUAAA9+ZqvzK6TRohAGAOrgcoI1t19O7kFQDAHFwPUEbWffTuxBUAwFxcL1BGRSMEAKx2p37QdeTuhBUAwJxcT1BGtHjU7kQVAMDcXG9QRkMjBAA8xPUGZTTNI3YnqAAAIK5HKCOpHq07MQUAgMz1CmUUqxshIYQQ0pNR2CN1J0QIIYSszQhohIQQQnbLCGiEhBBCdssIqkfpTogQQgjpzSjGOVIAAHZAIwQATI1GCACYGo0QADA1GiEAYGo0QgDA1GiEAICp0QgBABN7efkfIywlEu20hOoAAAAASUVORK5CYII=)\n",
        "\n",
        "\n",
        "BIG DATE - É quando os dados passaram a ser grandes e foram classificados como:\n",
        "\n",
        "*VARIEDADE\n",
        "\n",
        "*VOLUME\n",
        "\n",
        "*VELOCIDADE\n",
        "\n",
        "\n",
        "A tecnologia entra aqui pra tratar os grandes dados da atualidade.\n",
        "Classificação:\n",
        "\n",
        "QUALITATIVO E QUANTITATIVO.\n",
        "\n",
        "\n",
        "SUBCLASSIFICAR - 2º filtro\n",
        "\n",
        "\n",
        "QUALITATIVO - descreve\n",
        "\n",
        "*NOMINAL - descreve nominalmente. EX: nome, gÊnero\n",
        "\n",
        "*ORDINAL - descreve ordem numérica. EX: Id, ranking\n",
        "\n",
        "TIPOS - String\n",
        "\n",
        "operadores -  IS, IS NO\n",
        "\n",
        "\n",
        "  QUANTITATIVO - conta\n",
        "\n",
        "  *DISCRETO - não faz sentido ser quebrado. EX: quatidade de filhos.\n",
        "\n",
        "  TIPOS - INTEGER           \n",
        "\n",
        "  *CONTÍNUO - fa sentido ser quebrado. EX: salário\n",
        "\n",
        "  TIPOS - FLOAT, BOOLEAN\n",
        "\n",
        "\n",
        "\n",
        "  O processo de análise de dados começa com o contexto da pergunta de negócio. O que a empresa quer com os dados?\n",
        "\n",
        "  1º O mais importante é a pergunta ou um tema. Precisa ter clareza.\n",
        "\n",
        "  2º ETL:\n",
        "\n",
        "EXTRACT - Extração de algum lugar(banco de dados)\n",
        "\n",
        "TRANSFORM - Transformação/modelagem (Python)\n",
        "\n",
        "LOAD - Carregar\n",
        "\n",
        "\n",
        "Em seguida fazer um relatório. Precisa se claro e consciso. De fácil entendimento para aqueles que irão utilizá-lo.\n",
        "**O analista entrega um presente par ao tomador de decisões."
      ],
      "metadata": {
        "id": "dfGIsiIX_oQn"
      }
    },
    {
      "cell_type": "markdown",
      "source": [
        "# 1 - Variáveis e tipos de dados em Python"
      ],
      "metadata": {
        "id": "QEgob3nUtMz3"
      }
    },
    {
      "cell_type": "markdown",
      "source": [
        "## 1.1 - Variáveis"
      ],
      "metadata": {
        "id": "N4yykEnRwpjE"
      }
    },
    {
      "cell_type": "code",
      "execution_count": 1,
      "metadata": {
        "colab": {
          "base_uri": "https://localhost:8080/"
        },
        "id": "M5JD3IgVrRRO",
        "outputId": "c7a10248-7514-446c-f59d-5dc6ad96fede"
      },
      "outputs": [
        {
          "output_type": "stream",
          "name": "stdout",
          "text": [
            "Silvia\n",
            "<class 'str'>\n",
            "43\n",
            "<class 'int'>\n",
            "1.76\n",
            "<class 'float'>\n"
          ]
        }
      ],
      "source": [
        "'''\n",
        "Em Python, variáveis são utilizadas para armazenar valores na memória do\n",
        "computador. Para criar uma variável, você precisa usar um nome e um valor.\n",
        "O nome da variável deve seguir as regras de nomenclatura do Python:\n",
        "\n",
        "Deve começar com uma letra ou sublinhado (_).\n",
        "Pode conter letras, números e sublinhados.\n",
        "Não pode ser uma palavra-chave reservada do Python.\n",
        "Para atribuir um valor a uma variável, utilize o operador de atribuição (=).\n",
        "Exemplo:\n",
        "'''\n",
        "nome = 'Silvia' # variável recebendo uma String\n",
        "print(nome)  # impressão da variável nome\n",
        "print(type(nome)) #imprime o tipo da vairável\n",
        "idade = 43 #Variaável recebendo um int\n",
        "print(idade) # impressão da variável idade\n",
        "print(type(idade))  #imprime o tipo da vairável\n",
        "altura = 1.76 #variável recebendo um valor do tipo float\n",
        "print(altura) # impressão da variável altura\n",
        "print(type(altura)) #imprime o tipo da vairável"
      ]
    },
    {
      "cell_type": "markdown",
      "source": [
        "## 1.2 - Tipos de dados"
      ],
      "metadata": {
        "id": "eJWlRXpkwn_E"
      }
    },
    {
      "cell_type": "code",
      "source": [
        "'''\n",
        "Tipos de Dados:\n",
        "\n",
        "Cada variável em Python possui um tipo de dado, que define o tipo de valor que\n",
        "ela pode armazenar. Os tipos de dados mais comuns em Python são:\n",
        "\n",
        "Inteiro (int): Números inteiros, como 1, 2, 3, etc.\n",
        "Ponto flutuante (float): Números com casas decimais, como 1.5, 2.75, 3.14, etc.\n",
        "String (str): Textos, como \"Olá, mundo!\", \"Python é legal\", etc.\n",
        "Booleano (bool): Valores True ou False.\n",
        "Conversão de Tipos:\n",
        "\n",
        "É possível converter um tipo de dado para outro usando funções específicas.\n",
        "Exemplo:\n",
        "'''\n",
        "nome = 'Silvia'\n",
        "print(type(nome))\n",
        "numero_inteiro = 10\n",
        "print(type(numero_inteiro))\n",
        "numero_float = float(numero_inteiro)  # Converte um inteiro para um float - Casting\n",
        "print(type(numero_float))"
      ],
      "metadata": {
        "colab": {
          "base_uri": "https://localhost:8080/"
        },
        "id": "FucRWQAOwlwk",
        "outputId": "812e142b-7f9e-448f-9dc9-ad9dee76354b"
      },
      "execution_count": 2,
      "outputs": [
        {
          "output_type": "stream",
          "name": "stdout",
          "text": [
            "<class 'str'>\n",
            "<class 'int'>\n",
            "<class 'float'>\n"
          ]
        }
      ]
    },
    {
      "cell_type": "markdown",
      "source": [
        "# 2 - Operadores Python"
      ],
      "metadata": {
        "id": "n2h-kR0TzAky"
      }
    },
    {
      "cell_type": "markdown",
      "source": [
        "## 2.1 - Operadores Matemáticos"
      ],
      "metadata": {
        "id": "owbqbLcwzEsE"
      }
    },
    {
      "cell_type": "code",
      "source": [
        "'''\n",
        "Os operadores aritméticos em Python permitem realizar operações matemáticas\n",
        "básicas, como adição, subtração, multiplicação, divisão e exponenciação. São\n",
        "ferramentas essenciais para qualquer programador Python, desde iniciantes até\n",
        "experientes.\n",
        "'''"
      ],
      "metadata": {
        "id": "2XjavkXIzJoc"
      },
      "execution_count": null,
      "outputs": []
    },
    {
      "cell_type": "code",
      "source": [
        "# Soma (+)\n",
        "soma = 5 + 2\n",
        "print(soma)"
      ],
      "metadata": {
        "colab": {
          "base_uri": "https://localhost:8080/"
        },
        "id": "Ci4e2lRyzTSh",
        "outputId": "c2712f0a-b4cb-4a2d-d42a-1a280ccb7799"
      },
      "execution_count": null,
      "outputs": [
        {
          "output_type": "stream",
          "name": "stdout",
          "text": [
            "7\n"
          ]
        }
      ]
    },
    {
      "cell_type": "code",
      "source": [
        "# Subtração (-)\n",
        "menos = 5 - 2\n",
        "print(menos)"
      ],
      "metadata": {
        "colab": {
          "base_uri": "https://localhost:8080/"
        },
        "id": "8kbpYX7u0F2B",
        "outputId": "93ef91f7-4faa-4412-ad92-9193a2e5de42"
      },
      "execution_count": null,
      "outputs": [
        {
          "output_type": "stream",
          "name": "stdout",
          "text": [
            "3\n"
          ]
        }
      ]
    },
    {
      "cell_type": "code",
      "source": [
        "# Multiplicação (*)\n",
        "vezes = 5 * 2\n",
        "print(vezes)"
      ],
      "metadata": {
        "colab": {
          "base_uri": "https://localhost:8080/"
        },
        "id": "vrlA42V60PYx",
        "outputId": "c69c3843-9e81-455a-8f9c-82715f2cb76f"
      },
      "execution_count": null,
      "outputs": [
        {
          "output_type": "stream",
          "name": "stdout",
          "text": [
            "10\n"
          ]
        }
      ]
    },
    {
      "cell_type": "code",
      "source": [
        "# Divisão (/)\n",
        "dividir = 5 / 2\n",
        "print(dividir)"
      ],
      "metadata": {
        "colab": {
          "base_uri": "https://localhost:8080/"
        },
        "id": "0khcyddJ1_ld",
        "outputId": "188d9486-0da7-4772-fff0-7b15b3c0bd10"
      },
      "execution_count": null,
      "outputs": [
        {
          "output_type": "stream",
          "name": "stdout",
          "text": [
            "2.5\n"
          ]
        }
      ]
    },
    {
      "cell_type": "code",
      "source": [
        "# Parte Inteira da divisão (//)\n",
        "inteiro = 5 // 2\n",
        "print(inteiro)"
      ],
      "metadata": {
        "colab": {
          "base_uri": "https://localhost:8080/"
        },
        "id": "1jYy3XxC2Kl-",
        "outputId": "3f471e59-aaf1-4fc3-b3cf-5f91ee3b42cb"
      },
      "execution_count": null,
      "outputs": [
        {
          "output_type": "stream",
          "name": "stdout",
          "text": [
            "2\n"
          ]
        }
      ]
    },
    {
      "cell_type": "code",
      "source": [
        "# Resto da divisão (%)\n",
        "resto = 5 % 2\n",
        "print(resto)"
      ],
      "metadata": {
        "colab": {
          "base_uri": "https://localhost:8080/"
        },
        "id": "Gwj6h1lQ2Yu7",
        "outputId": "00100339-216a-46d0-da52-02dea0a03dfd"
      },
      "execution_count": null,
      "outputs": [
        {
          "output_type": "stream",
          "name": "stdout",
          "text": [
            "1\n"
          ]
        }
      ]
    },
    {
      "cell_type": "code",
      "source": [
        "# Exponenciação (**)\n",
        "elevado = 5 ** 2\n",
        "print(elevado)"
      ],
      "metadata": {
        "colab": {
          "base_uri": "https://localhost:8080/"
        },
        "id": "R7nz0ZIz2oSd",
        "outputId": "48f80c44-1e0b-4f7d-959d-d3042ec02ccc"
      },
      "execution_count": null,
      "outputs": [
        {
          "output_type": "stream",
          "name": "stdout",
          "text": [
            "25\n"
          ]
        }
      ]
    },
    {
      "cell_type": "markdown",
      "source": [
        "## 2.2 - Operadores de Comparação"
      ],
      "metadata": {
        "id": "OZYLxvaL6QMq"
      }
    },
    {
      "cell_type": "code",
      "source": [
        "'''\n",
        "Os operadores de comparação em Python permitem verificar se duas expressões são\n",
        "iguais, diferentes, maiores, menores, etc. São ferramentas essenciais para tomar\n",
        "decisões e realizar comparações em seus programas. Retornam com resultado\n",
        "verdadeiro (True) ou Falso (False) (tipo bool)\n",
        "'''"
      ],
      "metadata": {
        "id": "6AvFjdmS6aJt"
      },
      "execution_count": null,
      "outputs": []
    },
    {
      "cell_type": "code",
      "source": [
        "# Operador de Igualdade (==)\n",
        "igualdade = 3 == 4\n",
        "print(igualdade)"
      ],
      "metadata": {
        "colab": {
          "base_uri": "https://localhost:8080/"
        },
        "id": "hwyeD6YW6rjS",
        "outputId": "949595ec-cc32-4790-fb2e-de6d8c398fb6"
      },
      "execution_count": null,
      "outputs": [
        {
          "output_type": "stream",
          "name": "stdout",
          "text": [
            "False\n"
          ]
        }
      ]
    },
    {
      "cell_type": "code",
      "source": [
        "# Operador de Diferença (!=)\n",
        "diferente = 3 != 4\n",
        "print(diferente)"
      ],
      "metadata": {
        "colab": {
          "base_uri": "https://localhost:8080/"
        },
        "id": "M43inBmu7SBP",
        "outputId": "b77a42bb-c6be-498e-9646-c4a23b914bf9"
      },
      "execution_count": null,
      "outputs": [
        {
          "output_type": "stream",
          "name": "stdout",
          "text": [
            "True\n"
          ]
        }
      ]
    },
    {
      "cell_type": "code",
      "source": [
        "# Operador maior que (>)\n",
        "maior = 3 > 4\n",
        "print(maior)"
      ],
      "metadata": {
        "colab": {
          "base_uri": "https://localhost:8080/"
        },
        "id": "BLc1w4Bu72Pc",
        "outputId": "2e637340-daa3-43e0-ec4b-c4a086b67147"
      },
      "execution_count": null,
      "outputs": [
        {
          "output_type": "stream",
          "name": "stdout",
          "text": [
            "False\n"
          ]
        }
      ]
    },
    {
      "cell_type": "code",
      "source": [
        "# Operador menor que (<)\n",
        "menor = 3 < 4\n",
        "print(menor)"
      ],
      "metadata": {
        "colab": {
          "base_uri": "https://localhost:8080/"
        },
        "id": "LEAWxSOA8Jg3",
        "outputId": "2c1a2c8a-bdeb-4290-cbd6-652bfd677950"
      },
      "execution_count": null,
      "outputs": [
        {
          "output_type": "stream",
          "name": "stdout",
          "text": [
            "True\n"
          ]
        }
      ]
    },
    {
      "cell_type": "code",
      "source": [
        "# Operador maior ou igual a (>=)\n",
        "maior_igual = 3 >= 4\n",
        "print(maior_igual)"
      ],
      "metadata": {
        "colab": {
          "base_uri": "https://localhost:8080/"
        },
        "id": "J-0OjBrf8Xit",
        "outputId": "ff29b567-1900-42e7-c857-9d120bdb18db"
      },
      "execution_count": null,
      "outputs": [
        {
          "output_type": "stream",
          "name": "stdout",
          "text": [
            "False\n"
          ]
        }
      ]
    },
    {
      "cell_type": "code",
      "source": [
        "# Operador menor ou igual a (<=)\n",
        "menor_igual = 3 <= 4\n",
        "print(menor_igual)"
      ],
      "metadata": {
        "colab": {
          "base_uri": "https://localhost:8080/"
        },
        "id": "iCQtQldc9Lv4",
        "outputId": "913cd461-04f8-453f-db35-952263baaa67"
      },
      "execution_count": null,
      "outputs": [
        {
          "output_type": "stream",
          "name": "stdout",
          "text": [
            "True\n"
          ]
        }
      ]
    },
    {
      "cell_type": "code",
      "source": [
        "# Operador de identidade (is)\n",
        "# É interessante utilizar o is ao invés do ==\n",
        "# Verifica se um elemento está em uma coleção de caracteres\n",
        "a = 7\n",
        "b = 7.0\n",
        "print(a is b)\n",
        "print(a == b)"
      ],
      "metadata": {
        "colab": {
          "base_uri": "https://localhost:8080/"
        },
        "id": "E0pZkpnk-B-M",
        "outputId": "8df2fee9-302d-4f66-a429-b2391a03f128"
      },
      "execution_count": null,
      "outputs": [
        {
          "output_type": "stream",
          "name": "stdout",
          "text": [
            "False\n",
            "True\n"
          ]
        }
      ]
    },
    {
      "cell_type": "code",
      "source": [
        "# Operador de identidade (is not)\n",
        "# Verifica se um elemento não está em uma coleção de caracteres\n",
        "a = 7\n",
        "b = 7.0\n",
        "print(a is not b)\n",
        "print(a != b)"
      ],
      "metadata": {
        "id": "wnDpQpiS-FeU",
        "colab": {
          "base_uri": "https://localhost:8080/"
        },
        "outputId": "4aeca82b-5f10-49f2-cbab-18a55f675890"
      },
      "execution_count": 3,
      "outputs": [
        {
          "output_type": "stream",
          "name": "stdout",
          "text": [
            "True\n",
            "False\n"
          ]
        }
      ]
    },
    {
      "cell_type": "markdown",
      "source": [
        "## 2.3 Operadores de Associação"
      ],
      "metadata": {
        "id": "fJeh5qfd_5QS"
      }
    },
    {
      "cell_type": "code",
      "source": [
        "'''\n",
        "Os operadores de associação in e not in em Python permitem verificar se um\n",
        "elemento está presente ou não em uma coleção, como listas, tuplas, dicionários e\n",
        "strings. São ferramentas úteis para filtrar dados e realizar comparações em seus\n",
        "programas. Assim como os aoperadores de comparação eles retornam\n",
        "Verdadeiro (True) ou Falso (False)\n",
        "'''"
      ],
      "metadata": {
        "id": "wfWdqtjx__re"
      },
      "execution_count": null,
      "outputs": []
    },
    {
      "cell_type": "code",
      "source": [
        "# Operador in\n",
        "nome = 'Silvia'\n",
        "print('S' in nome)"
      ],
      "metadata": {
        "colab": {
          "base_uri": "https://localhost:8080/"
        },
        "id": "jkj9EzDuABm-",
        "outputId": "e22ba985-251d-49df-e82a-32808a0b9ddd"
      },
      "execution_count": 4,
      "outputs": [
        {
          "output_type": "stream",
          "name": "stdout",
          "text": [
            "True\n"
          ]
        }
      ]
    },
    {
      "cell_type": "code",
      "source": [
        "# Operador not in\n",
        "nome = 'Douglas'\n",
        "print('D' not in nome)"
      ],
      "metadata": {
        "colab": {
          "base_uri": "https://localhost:8080/"
        },
        "id": "7tE402U8AC-7",
        "outputId": "f4a8f1de-9204-49a1-dcc4-e19c33b02c82"
      },
      "execution_count": null,
      "outputs": [
        {
          "output_type": "stream",
          "name": "stdout",
          "text": [
            "False\n"
          ]
        }
      ]
    },
    {
      "cell_type": "markdown",
      "source": [
        "## 2.4 - Operadores Lógicos (AND, OR e NOT)"
      ],
      "metadata": {
        "id": "pd11WFzrF1_k"
      }
    },
    {
      "cell_type": "code",
      "source": [
        "'''\n",
        "Os operadores lógicos em Python permitem combinar expressões booleanas\n",
        "(True ou False) para formar novas expressões booleanas. São ferramentas\n",
        "essenciais para tomar decisões e realizar comparações complexas em seus\n",
        "programas. São eles:\n",
        "\n",
        "E (and): Retorna True se ambas as expressões forem True.\n",
        "Exemplo: x > 0 and y < 10.\n",
        "\n",
        "Ou (or): Retorna True se pelo menos uma das expressões for True.\n",
        "Exemplo: x == 0 or y == 10.\n",
        "\n",
        "Não (not): Inverte o valor da expressão.\n",
        "Exemplo: not (x > 0).\n",
        "'''"
      ],
      "metadata": {
        "id": "waZeftCUF017"
      },
      "execution_count": null,
      "outputs": []
    },
    {
      "cell_type": "code",
      "source": [
        "# Operador AND retorna verdadeiro se todas as condições forem verdadeiras\n",
        "a = 3\n",
        "b = 4\n",
        "c = 5\n",
        "print(a < b and b < c)\n",
        "print(a < b and b > c)"
      ],
      "metadata": {
        "colab": {
          "base_uri": "https://localhost:8080/"
        },
        "id": "-gq8GSXVGPtW",
        "outputId": "0d1855b1-e457-48aa-9b4f-bd17838321f5"
      },
      "execution_count": null,
      "outputs": [
        {
          "output_type": "stream",
          "name": "stdout",
          "text": [
            "True\n",
            "False\n"
          ]
        }
      ]
    },
    {
      "cell_type": "code",
      "source": [
        "# Operador OR retorna verdadeiro se pelo menos uma das condições for verdadeira\n",
        "a = 3\n",
        "b = 4\n",
        "c = 5\n",
        "print(a < b or b < c) # verdadeiro\n",
        "print(a < b or b > c) # verdadiro\n",
        "print(a > b or a > c) # Falso"
      ],
      "metadata": {
        "colab": {
          "base_uri": "https://localhost:8080/"
        },
        "id": "g-e8fLwWJipr",
        "outputId": "09a1a856-3dfd-4a13-f993-09d5b9f03e9a"
      },
      "execution_count": null,
      "outputs": [
        {
          "output_type": "stream",
          "name": "stdout",
          "text": [
            "True\n",
            "True\n",
            "False\n"
          ]
        }
      ]
    },
    {
      "cell_type": "code",
      "source": [
        "# Operador not (inverte o resulta de verdadeiro para falso e de falso para verdadeiro)\n",
        "a = 3\n",
        "b = 4\n",
        "c = 5\n",
        "print(not(a > b))\n",
        "print(not(a < b))"
      ],
      "metadata": {
        "colab": {
          "base_uri": "https://localhost:8080/"
        },
        "id": "gwT5moD-KLO2",
        "outputId": "2728a94e-9fa2-4d47-ab32-73185a834eae"
      },
      "execution_count": null,
      "outputs": [
        {
          "output_type": "stream",
          "name": "stdout",
          "text": [
            "True\n",
            "False\n"
          ]
        }
      ]
    },
    {
      "cell_type": "markdown",
      "source": [
        "# 3 - Strings"
      ],
      "metadata": {
        "id": "OVcHgds0KpIQ"
      }
    },
    {
      "cell_type": "markdown",
      "source": [
        "## 3.1 - Formatação de Strings (f-strings)"
      ],
      "metadata": {
        "id": "JK03JEKkKsuk"
      }
    },
    {
      "cell_type": "code",
      "source": [
        "'''\n",
        "As f-strings em Python são uma maneira concisa e elegante de formatar strings.\n",
        "Elas permitem incorporar expressões Python diretamente dentro de strings,\n",
        "tornando o código mais legível e fácil de manter.\n",
        "\n",
        "Como usar f-strings:\n",
        "\n",
        "Para usar f-strings, basta prefixar uma string literal com a letra \"f\".\n",
        "Dentro da string, você pode usar expressões Python entre chaves \"{}\":\n",
        "'''"
      ],
      "metadata": {
        "id": "ek6nH8PQKz-E"
      },
      "execution_count": null,
      "outputs": []
    },
    {
      "cell_type": "code",
      "source": [
        "cliente = 'Silvia'\n",
        "idade = 43\n",
        "print(f'O nome do cliente é {cliente}, e ela tem {idade} anos de idade.')"
      ],
      "metadata": {
        "colab": {
          "base_uri": "https://localhost:8080/"
        },
        "id": "S1a9UW5vLEnT",
        "outputId": "5ec9516d-4ff0-4f6f-96fd-e37101bf1b62"
      },
      "execution_count": 6,
      "outputs": [
        {
          "output_type": "stream",
          "name": "stdout",
          "text": [
            "O nome do cliente é Silvia, e ela tem 43 anos de idade.\n"
          ]
        }
      ]
    },
    {
      "cell_type": "code",
      "source": [
        "taxa = 2/3\n",
        "print(taxa)\n",
        "print(f'O resultado da taxa é aproximadamente {taxa:.2f}')"
      ],
      "metadata": {
        "colab": {
          "base_uri": "https://localhost:8080/"
        },
        "id": "K-l_m3JGMcic",
        "outputId": "5a396d32-3d94-4745-acfe-f197539d9474"
      },
      "execution_count": null,
      "outputs": [
        {
          "output_type": "stream",
          "name": "stdout",
          "text": [
            "0.6666666666666666\n",
            "O resultado da taxa é aproximadamente 0.67\n"
          ]
        }
      ]
    },
    {
      "cell_type": "markdown",
      "source": [
        "## 3.2 - Entrada definida pelo usuário (função input)"
      ],
      "metadata": {
        "id": "D_sq_R_yNlKh"
      }
    },
    {
      "cell_type": "code",
      "source": [
        "'''\n",
        "A função input() em Python permite que você obtenha entrada do usuário durante a\n",
        "execução do programa. É uma ferramenta essencial para interagir com o usuário e\n",
        "coletar dados para processamento.\n",
        "\n",
        "Como usar a função input():\n",
        "\n",
        "A função input() é simples de usar. Basta fornecer uma mensagem entre parênteses\n",
        "para instruir o usuário sobre o que digitar:\n",
        "'''"
      ],
      "metadata": {
        "id": "0WgB33zeOO1U"
      },
      "execution_count": null,
      "outputs": []
    },
    {
      "cell_type": "code",
      "source": [
        "nome = input('Informe seu primeiro nome: ')\n",
        "print(f'Olá, {nome}!')"
      ],
      "metadata": {
        "colab": {
          "base_uri": "https://localhost:8080/"
        },
        "id": "Y7D5WjEGOaD2",
        "outputId": "637c917e-9b2a-4e85-b2fe-69f368fdedb9"
      },
      "execution_count": 7,
      "outputs": [
        {
          "output_type": "stream",
          "name": "stdout",
          "text": [
            "Informe seu primeiro nome: Silvia\n",
            "Olá, Silvia!\n"
          ]
        }
      ]
    },
    {
      "cell_type": "code",
      "source": [
        "nome = input('Informe o seu primeiro nome: ')\n",
        "massa = float(input('Informe seu peso em kg: ')) #precisa fazer o casting colocando o tipo antes do input\n",
        "altura = float(input('Informe sua altura em metros na forma decimal: ')) #precisa fazer o casting colocando o tipo antes do input\n",
        "imc = massa / (altura ** 2) # para calcular o valor da variável imc precisa dividir a massa pela altura\n",
        "print(f'Olá {nome}! Seu IMC é {imc:.2f}') # formatação para duas casas decimais"
      ],
      "metadata": {
        "colab": {
          "base_uri": "https://localhost:8080/"
        },
        "id": "O1h7WfxuPChC",
        "outputId": "d911e113-2f6e-418d-bc48-d1c2e2adaad3"
      },
      "execution_count": 8,
      "outputs": [
        {
          "output_type": "stream",
          "name": "stdout",
          "text": [
            "Informe o seu primeiro nome: Silvia\n",
            "Informe seu peso em kg: 70\n",
            "Informe sua altura em metros na forma decimal: 1.76\n",
            "Olá Silvia! Seu IMC é 22.60\n"
          ]
        }
      ]
    }
  ]
}