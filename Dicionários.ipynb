{
  "nbformat": 4,
  "nbformat_minor": 0,
  "metadata": {
    "colab": {
      "provenance": [],
      "authorship_tag": "ABX9TyMdFvrEtd7qKZSTaeViLASK",
      "include_colab_link": true
    },
    "kernelspec": {
      "name": "python3",
      "display_name": "Python 3"
    },
    "language_info": {
      "name": "python"
    }
  },
  "cells": [
    {
      "cell_type": "markdown",
      "metadata": {
        "id": "view-in-github",
        "colab_type": "text"
      },
      "source": [
        "<a href=\"https://colab.research.google.com/github/SilviaMCSC/Curso-An-lise-de-Dados---Python/blob/main/Dicion%C3%A1rios.ipynb\" target=\"_parent\"><img src=\"https://colab.research.google.com/assets/colab-badge.svg\" alt=\"Open In Colab\"/></a>"
      ]
    },
    {
      "cell_type": "markdown",
      "source": [
        "##Dicionários { }"
      ],
      "metadata": {
        "id": "0qa27k8fqSHX"
      }
    },
    {
      "cell_type": "markdown",
      "source": [
        "Não trabalha com índices\n",
        "\n",
        "Possui chave valor\n",
        "\n",
        "Em pares\n"
      ],
      "metadata": {
        "id": "u5v50mh6qwLy"
      }
    },
    {
      "cell_type": "code",
      "source": [
        "carro = {'marca':'vw','modelo':'gol','ano':'2014','motor':'1.0'}\n",
        "type(carro)"
      ],
      "metadata": {
        "colab": {
          "base_uri": "https://localhost:8080/"
        },
        "id": "4whTTHL7rIyA",
        "outputId": "3dd847ef-5131-4150-c205-7278fc4e7272"
      },
      "execution_count": null,
      "outputs": [
        {
          "output_type": "execute_result",
          "data": {
            "text/plain": [
              "dict"
            ]
          },
          "metadata": {},
          "execution_count": 1
        }
      ]
    },
    {
      "cell_type": "markdown",
      "source": [],
      "metadata": {
        "id": "m4nRxF1Srkq-"
      }
    },
    {
      "cell_type": "code",
      "source": [
        "# Inserindo uma chave um valor em um dicionário existente\n",
        "carro = {'marca':'vw','modelo':'gol','ano':'2014','motor':'1.0'}\n",
        "carro['cor'] = 'azul'\n",
        "print(carro)"
      ],
      "metadata": {
        "colab": {
          "base_uri": "https://localhost:8080/"
        },
        "id": "9ho2nB-5rJYU",
        "outputId": "153c1471-222f-485f-9221-59a431765278"
      },
      "execution_count": null,
      "outputs": [
        {
          "output_type": "stream",
          "name": "stdout",
          "text": [
            "{'marca': 'vw', 'modelo': 'gol', 'ano': '2014', 'motor': '1.0', 'cor': 'azul'}\n"
          ]
        }
      ]
    },
    {
      "cell_type": "code",
      "source": [
        "carro['km'] = 280000\n",
        "print(carro)"
      ],
      "metadata": {
        "id": "OfyFnAsErMoP"
      },
      "execution_count": null,
      "outputs": []
    },
    {
      "cell_type": "code",
      "source": [
        "carro = {'marca':'vw','modelo':'gol','ano':'2014','motor':'1.0'}\n",
        "'''\n",
        "buscar um valor em um dicionário diretamente pela sua chave pode ser\n",
        "um problema se por exemplo essa chave não existir no dicionário original\n",
        "'''\n",
        "carro['marca']"
      ],
      "metadata": {
        "colab": {
          "base_uri": "https://localhost:8080/",
          "height": 35
        },
        "id": "LfYYOc3DrO-u",
        "outputId": "61805bc2-2cb9-47b6-9fe1-c812d477444d"
      },
      "execution_count": null,
      "outputs": [
        {
          "output_type": "execute_result",
          "data": {
            "text/plain": [
              "'vw'"
            ],
            "application/vnd.google.colaboratory.intrinsic+json": {
              "type": "string"
            }
          },
          "metadata": {},
          "execution_count": 3
        }
      ]
    },
    {
      "cell_type": "code",
      "source": [
        "carro = {'marca':'vw','modelo':'gol','ano':'2014','motor':'1.0'}\n",
        "'''\n",
        "buscar um valor em um dicionário diretamente pela sua chave pode ser\n",
        "um problema se por exemplo essa chave não existir no dicionário original\n",
        "'''\n",
        "carro['doc']\n",
        "\n",
        "# por isso estourao erro abaixo"
      ],
      "metadata": {
        "colab": {
          "base_uri": "https://localhost:8080/",
          "height": 211
        },
        "id": "Da4Djlh7rUsF",
        "outputId": "f19ff405-0991-4291-d58c-b22ec4ea9621"
      },
      "execution_count": 1,
      "outputs": [
        {
          "output_type": "error",
          "ename": "KeyError",
          "evalue": "'doc'",
          "traceback": [
            "\u001b[0;31m---------------------------------------------------------------------------\u001b[0m",
            "\u001b[0;31mKeyError\u001b[0m                                  Traceback (most recent call last)",
            "\u001b[0;32m<ipython-input-1-a386ea667786>\u001b[0m in \u001b[0;36m<cell line: 6>\u001b[0;34m()\u001b[0m\n\u001b[1;32m      4\u001b[0m \u001b[0mum\u001b[0m \u001b[0mproblema\u001b[0m \u001b[0mse\u001b[0m \u001b[0mpor\u001b[0m \u001b[0mexemplo\u001b[0m \u001b[0messa\u001b[0m \u001b[0mchave\u001b[0m \u001b[0mnão\u001b[0m \u001b[0mexistir\u001b[0m \u001b[0mno\u001b[0m \u001b[0mdicionário\u001b[0m \u001b[0moriginal\u001b[0m\u001b[0;34m\u001b[0m\u001b[0;34m\u001b[0m\u001b[0m\n\u001b[1;32m      5\u001b[0m '''\n\u001b[0;32m----> 6\u001b[0;31m \u001b[0mcarro\u001b[0m\u001b[0;34m[\u001b[0m\u001b[0;34m'doc'\u001b[0m\u001b[0;34m]\u001b[0m\u001b[0;34m\u001b[0m\u001b[0;34m\u001b[0m\u001b[0m\n\u001b[0m\u001b[1;32m      7\u001b[0m \u001b[0;34m\u001b[0m\u001b[0m\n\u001b[1;32m      8\u001b[0m \u001b[0;31m# por isso estourao erro abaixo\u001b[0m\u001b[0;34m\u001b[0m\u001b[0;34m\u001b[0m\u001b[0m\n",
            "\u001b[0;31mKeyError\u001b[0m: 'doc'"
          ]
        }
      ]
    },
    {
      "cell_type": "code",
      "source": [
        "carro = {'marca':'vw','modelo':'gol','ano':'2014','motor':'1.0'}\n",
        "'''\n",
        "Alternativa\n",
        "'''\n",
        "carro.get('marca')"
      ],
      "metadata": {
        "colab": {
          "base_uri": "https://localhost:8080/",
          "height": 35
        },
        "id": "A7O2TWKMrWnt",
        "outputId": "b2b88aa4-9c09-4149-eaaf-3a7884c97318"
      },
      "execution_count": null,
      "outputs": [
        {
          "output_type": "execute_result",
          "data": {
            "text/plain": [
              "'vw'"
            ],
            "application/vnd.google.colaboratory.intrinsic+json": {
              "type": "string"
            }
          },
          "metadata": {},
          "execution_count": 5
        }
      ]
    },
    {
      "cell_type": "code",
      "source": [
        "carro = {'marca':'vw','modelo':'gol','ano':'2014','motor':'1.0'}\n",
        "'''\n",
        "Alternativa\n",
        "'''\n",
        "carro.get('doc')\n",
        "'''\n",
        "Resumindo: para os dicionários o método get é bem semelhante à busca\n",
        "diretamente pela chave, mas com uma importante diferença: pelo método\n",
        "get, caso a chave não exista no dicionário original, ao onvés de travar o\n",
        "programa, o método retorna vazio\n",
        "'''"
      ],
      "metadata": {
        "colab": {
          "base_uri": "https://localhost:8080/",
          "height": 53
        },
        "id": "XGIrZG0trYyu",
        "outputId": "731aa847-5726-4a25-beb2-2204083cbe9e"
      },
      "execution_count": null,
      "outputs": [
        {
          "output_type": "execute_result",
          "data": {
            "text/plain": [
              "'\\nResumindo: para os dicionários o método get é bem semelhante à busca\\ndiretamente pela chave, mas com uma importante diferença: pelo método\\nget, caso a chave não exista no dicionário original, ao onvés de travar o\\nprograma, o método retorna vazio\\n'"
            ],
            "application/vnd.google.colaboratory.intrinsic+json": {
              "type": "string"
            }
          },
          "metadata": {},
          "execution_count": 6
        }
      ]
    },
    {
      "cell_type": "code",
      "source": [
        "# Removendo o último para de chave e valor de um dicionário\n",
        "carro = {'marca':'vw','modelo':'gol','ano':'2014','motor':'1.0'}\n",
        "carro.popitem()"
      ],
      "metadata": {
        "colab": {
          "base_uri": "https://localhost:8080/"
        },
        "id": "MdNRo7fwrate",
        "outputId": "b037dd71-56be-4adc-c50f-338411d9893d"
      },
      "execution_count": null,
      "outputs": [
        {
          "output_type": "execute_result",
          "data": {
            "text/plain": [
              "('motor', '1.0')"
            ]
          },
          "metadata": {},
          "execution_count": 7
        }
      ]
    },
    {
      "cell_type": "code",
      "source": [
        "# Excluindo um item de um dicionário\n",
        "carro = {'marca':'vw','modelo':'gol','ano':'2014','motor':'1.0'}\n",
        "carro.pop('marca')\n",
        "print(carro)"
      ],
      "metadata": {
        "colab": {
          "base_uri": "https://localhost:8080/"
        },
        "id": "kAdXWO9LrenZ",
        "outputId": "3c22dbe1-d842-4636-8d46-18b42dec2251"
      },
      "execution_count": null,
      "outputs": [
        {
          "output_type": "stream",
          "name": "stdout",
          "text": [
            "{'modelo': 'gol', 'ano': '2014', 'motor': '1.0'}\n"
          ]
        }
      ]
    },
    {
      "cell_type": "code",
      "source": [
        "# deixando um dicionário sem elemento algum\n",
        "carro = {'marca':'vw','modelo':'gol','ano':'2014','motor':'1.0'}\n",
        "print(carro)\n",
        "carro.clear()\n",
        "print(carro)"
      ],
      "metadata": {
        "colab": {
          "base_uri": "https://localhost:8080/"
        },
        "id": "T-67QT76rh2J",
        "outputId": "7a287008-2342-4fc8-aa28-35dd0de3be14"
      },
      "execution_count": null,
      "outputs": [
        {
          "output_type": "stream",
          "name": "stdout",
          "text": [
            "{'marca': 'vw', 'modelo': 'gol', 'ano': '2014', 'motor': '1.0'}\n",
            "{}\n"
          ]
        }
      ]
    }
  ]
}