{
  "nbformat": 4,
  "nbformat_minor": 0,
  "metadata": {
    "colab": {
      "provenance": [],
      "authorship_tag": "ABX9TyOkjDkr67AwncRDxBAywAVB",
      "include_colab_link": true
    },
    "kernelspec": {
      "name": "python3",
      "display_name": "Python 3"
    },
    "language_info": {
      "name": "python"
    }
  },
  "cells": [
    {
      "cell_type": "markdown",
      "metadata": {
        "id": "view-in-github",
        "colab_type": "text"
      },
      "source": [
        "<a href=\"https://colab.research.google.com/github/SilviaMCSC/Curso-An-lise-de-Dados---Python/blob/main/Listas.ipynb\" target=\"_parent\"><img src=\"https://colab.research.google.com/assets/colab-badge.svg\" alt=\"Open In Colab\"/></a>"
      ]
    },
    {
      "cell_type": "markdown",
      "source": [
        "## Estrutura de Dados\n"
      ],
      "metadata": {
        "id": "wpGOAx7VjYmz"
      }
    },
    {
      "cell_type": "markdown",
      "source": [
        "Listas"
      ],
      "metadata": {
        "id": "AtjybfTQjdrz"
      }
    },
    {
      "cell_type": "code",
      "execution_count": null,
      "metadata": {
        "colab": {
          "base_uri": "https://localhost:8080/"
        },
        "id": "C4SY4FX1jP_K",
        "outputId": "487c3762-4abc-4296-9cc6-969c5fc3ab63"
      },
      "outputs": [
        {
          "output_type": "stream",
          "name": "stdout",
          "text": [
            "A informação presente na lista na posição de índice 3 é: \"dado4\"\n",
            "Os valores no intervalo do 1º ao 3º elementos são: \"['dado1', 'dado2', 'dado3']\"\n"
          ]
        }
      ],
      "source": [
        "# Uma lista é um objeto que pode ser vazio, ou ter um ou mais itens\n",
        "lista = ['dado1', 'dado2','dado3','dado4', 'dado_n']\n",
        "#índices    0         1       2       3       4       ou:\n",
        "#          -5        -4      -3      -2      -1\n",
        "#           1º        2º      3º      4º      5º\n",
        "'''\n",
        "Qual é a informação presente na lista cuja posição é o\n",
        "índice 3?\n",
        "'''\n",
        "print(f'A informação presente na lista na posição de índice 3 é: \"{lista[3]}\"')\n",
        "\n",
        "'''\n",
        "Quais dados estão presentes no intervalo que vai do 1º ao 3º elementos da lista?\n",
        "'''\n",
        "print(f'Os valores no intervalo do 1º ao 3º elementos são: \"{lista[0:3]}\"')"
      ]
    },
    {
      "cell_type": "code",
      "source": [
        "produtos = ['monitor', 'celular', 'notebook', 'desktop', 'impressora', 'teclado']\n",
        "precos = [600, 2000, 5000, 3000, 1500, 200]\n",
        "vendas = [300, 500, 100, 700, 500, 1000]\n",
        "estoques = [5000] * 6 #  Este comando cria uma lista que tem 6 elementos com o mesmo valor (5000)"
      ],
      "metadata": {
        "id": "OLZBQZb_jmXC"
      },
      "execution_count": null,
      "outputs": []
    },
    {
      "cell_type": "code",
      "source": [
        "print(f'a lista produtos tem {len(produtos)} elementos')\n",
        "print(f'a lista precos tem {len(precos)} elementos')\n",
        "print(f'a lista vendas tem {len(vendas)} elementos')\n",
        "print(f'a lista estoques tem {len(estoques)} elementos')"
      ],
      "metadata": {
        "colab": {
          "base_uri": "https://localhost:8080/"
        },
        "id": "yD11DEUtjm-Y",
        "outputId": "66c94fb2-acbd-4325-c6dc-23b8e4baffae"
      },
      "execution_count": null,
      "outputs": [
        {
          "output_type": "stream",
          "name": "stdout",
          "text": [
            "a lista produtos tem 6 elementos\n",
            "a lista precos tem 6 elementos\n",
            "a lista vendas tem 6 elementos\n",
            "a lista estoques tem 6 elementos\n"
          ]
        }
      ]
    },
    {
      "cell_type": "code",
      "source": [
        "'''\n",
        "Elabore um programa que receba do usuário um número inteiro e positivo\n",
        "de no máximo 5, e automaticamente, exiba o nome do produto correspondente,\n",
        "seu preço, sua quantidade vendida, o valor faturado em R$, e quantas unidades\n",
        "ainda restam em estoque desse produto.\n",
        "'''\n",
        "produtos = ['monitor', 'celular', 'notebook', 'desktop', 'impressora', 'teclado']\n",
        "precos = [600, 2000, 5000, 3000, 1500, 200]\n",
        "vendas = [300, 500, 100, 700, 500, 1000]\n",
        "estoques = [5000] * 6 #  Este comando cria uma lista que tem 6 elementos com o mesmo valor (5000)"
      ],
      "metadata": {
        "id": "rXn9CJPDjo9m"
      },
      "execution_count": null,
      "outputs": []
    },
    {
      "cell_type": "code",
      "source": [
        "i = int(input('Informe um número inteiro e positivos de 0 a 5: ')) # recebe do usuário um número inteiro e positivo e o armazena na variável i\n",
        "print(f'O produto escolhido foi: {produtos[i]}') # Exibe o nome do produto referente ao número informado pelo usuário\n",
        "print(f'seu preço é de: R$ {precos[i]:,.2f}')\n",
        "print(f'sua quantidade vendida fou de {vendas[i]} unidades')\n",
        "print(f'o seu faturamento foi de R$ {(vendas[i]*precos[i]):,.2f} ')\n",
        "print(f'e ainda restam {estoques[i]-vendas[i]} unidades em estoque')"
      ],
      "metadata": {
        "colab": {
          "base_uri": "https://localhost:8080/"
        },
        "id": "BQ_3ZsC_jtgw",
        "outputId": "5d1186ca-1d27-40ad-e565-3bb5afdc5f4e"
      },
      "execution_count": null,
      "outputs": [
        {
          "output_type": "stream",
          "name": "stdout",
          "text": [
            "Informe um número inteiro e positivos de 0 a 5: 3\n",
            "O produto escolhido foi: desktop\n",
            "seu preço é de: R$ 3,000.00\n",
            "sua quantidade vendida fou de 700 unidades\n",
            "o seu faturamento foi de R$ 2,100,000.00 \n",
            "e ainda restam 4300 unidades em estoque\n"
          ]
        }
      ]
    },
    {
      "cell_type": "code",
      "source": [
        "i = int(input('Informe um número inteiro e positivos de 0 a 5: '))\n",
        "print(f'''\n",
        "O produto escolhido foi: {produtos[i]}, seu preço é de: R$ {precos[i]:,.2f},\n",
        "sua quantidade vendida fou de {vendas[i]} unidades,\n",
        "o seu faturamento foi de R$ {(vendas[i]*precos[i]):,.2f},\n",
        "e ainda restam {estoques[i]-vendas[i]} unidades em estoque''')"
      ],
      "metadata": {
        "colab": {
          "base_uri": "https://localhost:8080/"
        },
        "id": "-W19NJN9jvi6",
        "outputId": "50c1f658-41de-431c-82cf-c12a6db7b1a3"
      },
      "execution_count": null,
      "outputs": [
        {
          "output_type": "stream",
          "name": "stdout",
          "text": [
            "Informe um número inteiro e positivos de 0 a 5: 5\n",
            "\n",
            "O produto escolhido foi: teclado, seu preço é de: R$ 200.00,\n",
            "sua quantidade vendida fou de 1000 unidades,\n",
            "o seu faturamento foi de R$ 200,000.00,\n",
            "e ainda restam 4000 unidades em estoque\n"
          ]
        }
      ]
    },
    {
      "cell_type": "code",
      "source": [
        "'''\n",
        "Inserindo valores em uma lista\n",
        "'''\n",
        "produtos = ['monitor', 'celular', 'notebook', 'desktop', 'impressora', 'teclado']\n",
        "precos = [600, 2000, 5000, 3000, 1500, 200]\n",
        "vendas = [300, 500, 100, 700, 500, 1000]\n",
        "estoques = [5000] * 6 #  Este comando cria uma lista que tem 6 elementos com o mesmo valor (5000)\n",
        "\n",
        "'''\n",
        "Inserindo um novo produto na lista produtos\n",
        "'''\n",
        "produtos.append('mouse')\n",
        "print(produtos)\n",
        "precos.append(10)\n",
        "print(precos)\n",
        "vendas.append(1000)\n",
        "print(vendas)\n",
        "estoques.append(5000)\n",
        "print(estoques)"
      ],
      "metadata": {
        "colab": {
          "base_uri": "https://localhost:8080/"
        },
        "id": "jmMRYOAFjyMy",
        "outputId": "c85eac36-bb32-40b5-ee2e-80b43e222820"
      },
      "execution_count": null,
      "outputs": [
        {
          "output_type": "stream",
          "name": "stdout",
          "text": [
            "['monitor', 'celular', 'notebook', 'desktop', 'impressora', 'teclado', 'mouse']\n",
            "[600, 2000, 5000, 3000, 1500, 200, 10]\n",
            "[300, 500, 100, 700, 500, 1000, 1000]\n",
            "[5000, 5000, 5000, 5000, 5000, 5000, 5000]\n"
          ]
        }
      ]
    },
    {
      "cell_type": "code",
      "source": [
        "'''\n",
        "Inserindo valores em um índice específico de uma lista\n",
        "'''\n",
        "produtos = ['monitor', 'celular', 'notebook', 'desktop', 'impressora', 'teclado']\n",
        "precos = [600, 2000, 5000, 3000, 1500, 200]\n",
        "vendas = [300, 500, 100, 700, 500, 1000]\n",
        "estoques = [5000] * 6 #  Este comando cria uma lista que tem 6 elementos com o mesmo valor (5000)\n",
        "'''\n",
        "método insert\n",
        "Imagine que você deseja inserir o produto microfone na primeira posição da lista\n",
        "(índice 0), sem excluir nenhum produto previamente existente\n",
        "'''\n",
        "produtos.insert(0,'microfone')\n",
        "print(produtos)\n",
        "precos.insert(0,700)\n",
        "print(precos)\n",
        "vendas.insert(0,50)\n",
        "print(vendas)\n",
        "estoques.insert(0,5000)\n",
        "print(estoques)"
      ],
      "metadata": {
        "id": "fk-tgmX7jzSZ"
      },
      "execution_count": null,
      "outputs": []
    },
    {
      "cell_type": "markdown",
      "source": [
        "'''\n",
        "A principal diferença entre append e insert é a posição que o elemento é\n",
        "inserido, no append por padrão o elemento é inserido na última posição e no\n",
        "insert é possível escolher a posição onde vamos inserir o novo elemento\n",
        "'''"
      ],
      "metadata": {
        "id": "1v3A-hQzj31E"
      }
    },
    {
      "cell_type": "code",
      "source": [
        "'''\n",
        "Excluindo elementos de uma lista\n",
        "1º método: (pop) ele exclui com a referência do índice\n",
        "'''\n",
        "produtos = ['monitor', 'celular', 'notebook', 'desktop', 'impressora', 'teclado']\n",
        "precos = [600, 2000, 5000, 3000, 1500, 200]\n",
        "vendas = [300, 500, 100, 700, 500, 1000]\n",
        "estoques = [5000] * 6 #  Este comando cria uma lista que tem 6 elementos com o mesmo valor (5000)\n",
        "\n",
        "'''\n",
        "Suponha que você deseja excluir o produto teclado da lista de produtos\n",
        "'''\n",
        "produtos.pop()\n",
        "print(produtos)\n",
        "precos.pop()\n",
        "print(precos)\n",
        "vendas.pop()\n",
        "print(vendas)\n",
        "estoques.pop()\n",
        "print(estoques)"
      ],
      "metadata": {
        "colab": {
          "base_uri": "https://localhost:8080/"
        },
        "id": "xTS3Idbzj4vu",
        "outputId": "9eb99d22-cc30-4928-ace4-6f3fa1b155f4"
      },
      "execution_count": null,
      "outputs": [
        {
          "output_type": "stream",
          "name": "stdout",
          "text": [
            "['monitor', 'celular', 'notebook', 'desktop', 'impressora']\n",
            "[600, 2000, 5000, 3000, 1500]\n",
            "[300, 500, 100, 700, 500]\n",
            "[5000, 5000, 5000, 5000, 5000]\n"
          ]
        }
      ]
    },
    {
      "cell_type": "code",
      "source": [
        "'''\n",
        "Utilizando o método remove para excluir um dado pelo seu valor\n",
        "'''\n",
        "produtos = ['monitor', 'celular', 'notebook', 'desktop', 'impressora', 'teclado']\n",
        "precos = [600, 2000, 5000, 3000, 1500, 200]\n",
        "vendas = [300, 500, 100, 700, 500, 1000]\n",
        "estoques = [5000] * 6 #  Este comando cria uma lista que tem 6 elementos com o mesmo valor (5000)\n",
        "\n",
        "'''\n",
        "Suponha que você deseja remover o teclado da lista produtos e não saiba qual é\n",
        "o seu índice\n",
        "'''\n",
        "produtos.remove('teclado')\n",
        "print(produtos)\n",
        "precos.remove(200)\n",
        "print(precos)"
      ],
      "metadata": {
        "colab": {
          "base_uri": "https://localhost:8080/"
        },
        "id": "Zdc1RBK9j8_F",
        "outputId": "bdde3ef6-b63e-4a2b-9f4d-37d7840c0152"
      },
      "execution_count": null,
      "outputs": [
        {
          "output_type": "stream",
          "name": "stdout",
          "text": [
            "['monitor', 'celular', 'notebook', 'desktop', 'impressora']\n",
            "[600, 2000, 5000, 3000, 1500]\n"
          ]
        }
      ]
    },
    {
      "cell_type": "code",
      "source": [
        "\n",
        "'''\n",
        "Suponha que você deseja saber se na lista produtos existe o termo celular\n",
        "'''\n",
        "produtos = ['monitor', 'celular', 'notebook', 'desktop', 'impressora', 'teclado']\n",
        "precos = [600, 2000, 5000, 3000, 1500, 200]\n",
        "vendas = [300, 500, 100, 700, 500, 1000]\n",
        "estoques = [5000] * 6 #  Este comando cria uma lista que tem 6 elementos com o mesmo valor (5000)\n",
        "\n",
        "print('celular' in produtos)\n",
        "\n"
      ],
      "metadata": {
        "colab": {
          "base_uri": "https://localhost:8080/"
        },
        "id": "fBi7khqsj9uN",
        "outputId": "3bd416a4-3d41-49a6-c346-d14dae65192a"
      },
      "execution_count": null,
      "outputs": [
        {
          "output_type": "stream",
          "name": "stdout",
          "text": [
            "True\n"
          ]
        }
      ]
    },
    {
      "cell_type": "code",
      "source": [
        "produtos = ['monitor', 'celular', 'notebook', 'desktop', 'impressora', 'teclado']\n",
        "precos = [600, 2000, 5000, 3000, 1500, 200]\n",
        "vendas = [300, 500, 100, 700, 500, 1000]\n",
        "estoques = [5000] * 6 #  Este comando cria uma lista que tem 6 elementos com o mesmo valor (5000)\n",
        "\n",
        "\n",
        "'''\n",
        "Suponha que você deseja saber se na lista produtos existe o termo celular e caso\n",
        "exista qual é o seu índice - método index\n",
        "'''\n",
        "i = produtos.index('celular')\n",
        "\n",
        "\n",
        "print(f'''\n",
        "O produto escolhido foi: {produtos[i]}, seu preço é de: R$ {precos[i]:,.2f},\n",
        "sua quantidade vendida fou de {vendas[i]} unidades,\n",
        "o seu faturamento foi de R$ {(vendas[i]*precos[i]):,.2f}, o seu estoque\n",
        "é de {(estoques[i] - vendas[i])} unidades''')"
      ],
      "metadata": {
        "colab": {
          "base_uri": "https://localhost:8080/"
        },
        "id": "EwJC3Q9Mj_mX",
        "outputId": "b4d8a9e5-fd03-4d9d-a01b-8d4c660f83fa"
      },
      "execution_count": null,
      "outputs": [
        {
          "output_type": "stream",
          "name": "stdout",
          "text": [
            "\n",
            "O produto escolhido foi: celular, seu preço é de: R$ 2,000.00,\n",
            "sua quantidade vendida fou de 500 unidades,\n",
            "o seu faturamento foi de R$ 1,000,000.00, o seu estoque\n",
            "é de 4500 unidades\n"
          ]
        }
      ]
    },
    {
      "cell_type": "code",
      "source": [
        "produtos = ['monitor', 'celular', 'notebook', 'desktop', 'impressora', 'teclado']\n",
        "precos = [600, 2000, 5000, 3000, 1500, 200]\n",
        "vendas = [300, 500, 100, 700, 500, 1000]\n",
        "estoques = [5000] * 6 #  Este comando cria uma lista que tem 6 elementos com o mesmo valor (5000)\n",
        "'''\n",
        "Imagine que você deseja permitir que o usuário consulte a existência de um\n",
        "produto pelo nome e caso esse produto exista, o programa retorna o nome do\n",
        "produto, seu preço unitário de venda, sua quantidade vendida, seu faturamento e\n",
        "quantas unidades ainda restam em estoique desse produto.\n",
        "'''\n",
        "\n",
        "i = produtos.index(input('Informe nome do produto que deseja consultar: ').lower())\n",
        "\n",
        "print(f'''\n",
        "O produto escolhido foi: {produtos[i]}, seu preço é de: R$ {precos[i]:,.2f},\n",
        "sua quantidade vendida fou de {vendas[i]} unidades,\n",
        "o seu faturamento foi de R$ {(vendas[i]*precos[i]):,.2f}, o seu estoque\n",
        "é de {(estoques[i] - vendas[i])} unidades''')"
      ],
      "metadata": {
        "colab": {
          "base_uri": "https://localhost:8080/"
        },
        "id": "F1h-0ZcNkETZ",
        "outputId": "69eb12b9-1c05-4c4e-ca06-93867c18e84d"
      },
      "execution_count": null,
      "outputs": [
        {
          "output_type": "stream",
          "name": "stdout",
          "text": [
            "Informe nome do produto que deseja consultar: celular\n",
            "\n",
            "O produto escolhido foi: celular, seu preço é de: R$ 2,000.00,\n",
            "sua quantidade vendida fou de 500 unidades,\n",
            "o seu faturamento foi de R$ 1,000,000.00, o seu estoque\n",
            "é de 4500 unidades\n"
          ]
        }
      ]
    }
  ]
}