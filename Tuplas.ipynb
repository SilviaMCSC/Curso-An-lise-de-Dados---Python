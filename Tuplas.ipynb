{
  "nbformat": 4,
  "nbformat_minor": 0,
  "metadata": {
    "colab": {
      "provenance": [],
      "authorship_tag": "ABX9TyODVMcW7pty239H9FU3Turc",
      "include_colab_link": true
    },
    "kernelspec": {
      "name": "python3",
      "display_name": "Python 3"
    },
    "language_info": {
      "name": "python"
    }
  },
  "cells": [
    {
      "cell_type": "markdown",
      "metadata": {
        "id": "view-in-github",
        "colab_type": "text"
      },
      "source": [
        "<a href=\"https://colab.research.google.com/github/SilviaMCSC/Curso-An-lise-de-Dados---Python/blob/main/Tuplas.ipynb\" target=\"_parent\"><img src=\"https://colab.research.google.com/assets/colab-badge.svg\" alt=\"Open In Colab\"/></a>"
      ]
    },
    {
      "cell_type": "markdown",
      "source": [
        "##Tuplas"
      ],
      "metadata": {
        "id": "Lq6qyfTFlccE"
      }
    },
    {
      "cell_type": "markdown",
      "source": [
        "São estruturas de dados imutáveis\n",
        "\n",
        "Pode-se criar Tuplas vazias ()\n",
        "\n",
        "São indexáveis\n",
        "\n",
        "Podem ser fatiadas\n",
        "\n",
        "***É uma constante como em Java***\n"
      ],
      "metadata": {
        "id": "H9uvSaBYnQDh"
      }
    },
    {
      "cell_type": "code",
      "source": [
        "'''\n",
        "Tuplas são estruturas de dados imutáveis\n",
        "'''\n",
        "# Criando tuplas\n",
        "nomes = ('Douglas', 'Daniela', 'Pedro', 'Maria')\n",
        "idades = (47, 8, 68, 67)\n",
        "alturas = (1.85, 1.32, 1.75, 1.69)\n",
        "tupla_vazia = ()\n",
        "print(type(nomes))\n",
        "print(nomes)"
      ],
      "metadata": {
        "colab": {
          "base_uri": "https://localhost:8080/"
        },
        "id": "GD8nEvU0lfB9",
        "outputId": "a31aba1a-db37-4576-c7ca-4a3c53882bf1"
      },
      "execution_count": null,
      "outputs": [
        {
          "output_type": "stream",
          "name": "stdout",
          "text": [
            "<class 'tuple'>\n",
            "('Douglas', 'Daniela', 'Pedro', 'Maria')\n"
          ]
        }
      ]
    },
    {
      "cell_type": "code",
      "source": [
        "# Fatiando tuplas\n",
        "nomes = ('Jurandi', 'Lara', 'Eric', 'Laís')\n",
        "idades = (43, 20, 17, 14)\n",
        "alturas = (1.76, 1.67, 1.87, 1.60)\n",
        "print(nomes[0]) # nome da posição zero é Jurandi\n",
        "print(idades[1:3]) #idades na píndice 1 é 20, pois começa a contar do índice 0\n",
        "#e o índice 3 significa que ele precisa entrar na conta então tem que ir até o índice 4\n",
        "print(alturas[-1])# alturas é 1.6 pois o -1 é do ínice inverso e mostra de trás para frente o útimo elemento da Tupla"
      ],
      "metadata": {
        "colab": {
          "base_uri": "https://localhost:8080/"
        },
        "id": "aXG9tdyElhIe",
        "outputId": "54f650a6-af6c-4f9a-94f1-8aff55f12a1c"
      },
      "execution_count": null,
      "outputs": [
        {
          "output_type": "stream",
          "name": "stdout",
          "text": [
            "Jurandi\n",
            "(20, 17)\n",
            "1.6\n"
          ]
        }
      ]
    },
    {
      "cell_type": "code",
      "source": [
        "# convertendo objetos em tuplas e vice-versa\n",
        "lista = [1,2,3] # lista em cochetes\n",
        "tupla = tuple(lista) #tuplas entre parênteses.\n",
        "                    # Casting de lista para Tupla\n",
        "nova_lista = list(tupla) #armazenando a Tupla em uma nova variável\n",
        "print(lista) # imprime a lista original\n",
        "print(tupla) # imprime o casting feito para Tupla\n",
        "print(nova_lista) # imprime a nova lista"
      ],
      "metadata": {
        "colab": {
          "base_uri": "https://localhost:8080/"
        },
        "id": "j9D6BGIpljiX",
        "outputId": "7f52a42d-162a-48f2-ea7b-bf9927c906b0"
      },
      "execution_count": null,
      "outputs": [
        {
          "output_type": "stream",
          "name": "stdout",
          "text": [
            "[1, 2, 3]\n",
            "(1, 2, 3)\n",
            "[1, 2, 3]\n"
          ]
        }
      ]
    },
    {
      "cell_type": "code",
      "source": [
        "# verificando a existência de um elemento em uma tupla\n",
        "lista = [1,2,3]\n",
        "tupla = tuple(lista)  # Casting de lista para Tupla\n",
        "nova_lista = list(tupla) # converte a nova lista em uma nova Tupla\n",
        "print(4 in tupla)\n",
        "print(4 not in tupla)"
      ],
      "metadata": {
        "colab": {
          "base_uri": "https://localhost:8080/"
        },
        "id": "O7PZuMZKll9J",
        "outputId": "0432bb50-38fa-4aa7-accf-398338714bbc"
      },
      "execution_count": null,
      "outputs": [
        {
          "output_type": "stream",
          "name": "stdout",
          "text": [
            "False\n",
            "True\n"
          ]
        }
      ]
    }
  ]
}